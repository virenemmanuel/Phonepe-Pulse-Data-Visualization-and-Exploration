{
 "cells": [
  {
   "cell_type": "code",
   "execution_count": null,
   "metadata": {},
   "outputs": [],
   "source": [
    "# importing nessacery  library\n",
    "# for dataframe\n",
    "import pandas as pd\n",
    "\n",
    "# Connect to the Database\n",
    "import psycopg2\n",
    "\n",
    "# for plot visualization\n",
    "import plotly.express as px\n",
    "\n",
    "# for  Handling Query Parameters for error\n",
    "import requests\n",
    "\n",
    "#  Reading JSON Data from a File\n",
    "import json\n"
   ]
  },
  {
   "cell_type": "code",
   "execution_count": null,
   "metadata": {},
   "outputs": [],
   "source": [
    "#Dataframe creation\n",
    "\n",
    "#sql connection\n",
    "   # Establishes a Database Connection: \n",
    "   # It connects to a PostgreSQL database named phonepe_data running on localhost using the psycopg2 library.\n",
    "mydb = psycopg2.connect (host = \"localhost\",\n",
    "                         user = \"postgres\",\n",
    "                         password = \"roomno13\",\n",
    "                         database = \"phonepe_data\",\n",
    "                         port = \"5432\")\n",
    "# In the provided code snippet,\n",
    "#  cursor = mydb.cursor() is used to create a cursor object associated with the PostgreSQL database connection (mydb).\n",
    "#  Cursors are used to execute SQL queries and manage the result set returned by the queries. \n",
    "cursor = mydb.cursor()\n",
    "\n",
    "#Aggregated_insurance_df\n",
    "    # The execute() method runs the SQL query\n",
    "cursor.execute(\"SELECT * FROM aggregated_insurance\")\n",
    "\n",
    " # Committing the transaction\n",
    "mydb.commit()\n",
    "\n",
    "# Fetching all rows from the executed query\n",
    "table1 = cursor.fetchall()\n",
    "\n",
    "# Creating a pandas DataFrame with the fetched data and specified column names\n",
    "Aggregated_insurance = pd.DataFrame(table1,columns=(\"States\",\"Years\",\"Quarter\",\"Transaction_type\",\"Transaction_count\",\"Transaction_amount\"))\n",
    "\n",
    "\n",
    "#Aggregated_transacation_df\n",
    "     # The execute() method runs the SQL query\n",
    "cursor.execute(\"SELECT * FROM aggregated_transaction\")\n",
    " # Committing the transaction\n",
    "mydb.commit()\n",
    "# Fetching all rows from the executed query\n",
    "table2 = cursor.fetchall()\n",
    "\n",
    "# Creating a pandas DataFrame with the fetched data and specified column names\n",
    "Aggregated_transacation = pd.DataFrame(table2,columns=(\"States\",\"Years\",\"Quarter\",\"Transaction_type\",\"Transaction_count\",\"Transaction_amount\"))\n",
    "\n",
    "\n",
    "#Aggregated_user_df\n",
    " # The execute() method runs the SQL query\n",
    "cursor.execute(\"SELECT * FROM aggregated_user\")\n",
    " # Committing the transaction\n",
    "mydb.commit()\n",
    "# Fetching all rows from the executed query\n",
    "table3 = cursor.fetchall()\n",
    "# Creating a pandas DataFrame with the fetched data and specified column names\n",
    "Aggregated_user= pd.DataFrame(table3,columns=(\"States\",\"Years\",\"Quarter\",\"Brands\",\"Transaction_count\",\"Percentage\"))\n",
    "\n",
    "\n",
    "#Map_insurance_df\n",
    " # The execute() method runs the SQL query\n",
    "cursor.execute(\"SELECT * FROM map_insurance\")\n",
    " # Committing the transaction\n",
    "mydb.commit()\n",
    "# Fetching all rows from the executed query\n",
    "table4 = cursor.fetchall()\n",
    "# Creating a pandas DataFrame with the fetched data and specified column names\n",
    "Map_insurance= pd.DataFrame(table4,columns=(\"States\",\"Years\",\"Quarter\",\"Districts\",\"Transaction_count\",\"Transaction_amount\"))\n",
    "\n",
    "\n",
    "#Map_transaction_df\n",
    "# The execute() method runs the SQL query\n",
    "cursor.execute(\"SELECT * FROM map_transaction\")\n",
    " # Committing the transaction\n",
    "mydb.commit()\n",
    "# Fetching all rows from the executed query\n",
    "table5 = cursor.fetchall()\n",
    "# Creating a pandas DataFrame with the fetched data and specified column names\n",
    "Map_transaction= pd.DataFrame(table5,columns=(\"States\",\"Years\",\"Quarter\",\"Districts\",\"Transaction_count\",\"Transaction_amount\"))\n",
    "\n",
    "\n",
    "#Map_user_df\n",
    "# The execute() method runs the SQL query\n",
    "cursor.execute(\"SELECT * FROM map_user\")\n",
    " # Committing the transaction\n",
    "mydb.commit()\n",
    "# Fetching all rows from the executed query\n",
    "table6 = cursor.fetchall()\n",
    "# Creating a pandas DataFrame with the fetched data and specified column names\n",
    "Map_user= pd.DataFrame(table6,columns=(\"States\",\"Years\",\"Quarter\",\"Districts\",\"RegisteredUsers\",\"AppOpens\"))\n",
    "\n",
    "\n",
    "#Top_Insurance_df\n",
    "# The execute() method runs the SQL query\n",
    "cursor.execute(\"SELECT * FROM top_insurance\")\n",
    " # Committing the transaction\n",
    "mydb.commit()\n",
    "# Fetching all rows from the executed query\n",
    "table7 = cursor.fetchall()\n",
    "# Creating a pandas DataFrame with the fetched data and specified column names\n",
    "Top_Insurance= pd.DataFrame(table7,columns=(\"States\",\"Years\",\"Quarter\",\"Pincodes\",\"Transaction_count\",\"Transaction_amount\"))\n",
    "\n",
    "\n",
    "#Top_transaction _df\n",
    "# The execute() method runs the SQL query\n",
    "cursor.execute(\"SELECT * FROM top_transaction\")\n",
    " # Committing the transaction\n",
    "mydb.commit()\n",
    "# Fetching all rows from the executed query\n",
    "table8 = cursor.fetchall()\n",
    "# Creating a pandas DataFrame with the fetched data and specified column names\n",
    "Top_transaction = pd.DataFrame(table8,columns=(\"States\",\"Years\",\"Quarter\",\"Pincodes\",\"Transaction_count\",\"Transaction_amount\"))\n",
    "\n",
    "\n",
    "#Top_user _df\n",
    "# The execute() method runs the SQL query\n",
    "cursor.execute(\"SELECT * FROM top_user\")\n",
    " # Committing the transaction\n",
    "mydb.commit()\n",
    "# Fetching all rows from the executed query\n",
    "table9 = cursor.fetchall()\n",
    "# Creating a pandas DataFrame with the fetched data and specified column names\n",
    "Top_user = pd.DataFrame(table9,columns=(\"States\",\"Years\",\"Quarter\",\"Pincodes\",\"RegisteredUsers\"))\n"
   ]
  },
  {
   "cell_type": "markdown",
   "metadata": {},
   "source": [
    "Summary:\n",
    "\n",
    "Establishing a Database Connection: The code connects to the phonepe_data database on localhost using psycopg2.\n",
    "\n",
    "Creating Cursors: Cursors are created to execute SQL queries and manage the result sets.\n",
    "\n",
    "Executing SQL Queries and Fetching Data: SQL queries are executed for each table, and the fetchall() method is used to fetch all rows from the executed queries.\n",
    "\n",
    "Creating Pandas DataFrames: Pandas DataFrames are created from the fetched data with specified column names."
   ]
  },
  {
   "cell_type": "code",
   "execution_count": null,
   "metadata": {},
   "outputs": [],
   "source": [
    "#sql connection for top chart Transaction Amount:\n",
    "def top_chart_transaction_amount(table_name):\n",
    "    # Establishes a Database Connection: \n",
    "    # It connects to a PostgreSQL database named phonepe_data running on localhost using the psycopg2 library.\n",
    "    mydb = psycopg2.connect (host = \"localhost\",\n",
    "                            user = \"postgres\",\n",
    "                            password = \"roomno13\",\n",
    "                            database = \"phonepe_data\",\n",
    "                            port = \"5432\")\n",
    "    # cursor = mydb.cursor() is used to create a cursor object associated with the PostgreSQL database connection (mydb).\n",
    "    # Cursors are used to execute SQL queries and manage the result set returned by the queries. \n",
    "    cursor = mydb.cursor()\n",
    "\n",
    "    #plot_1\n",
    "      # Executing the SQL query\n",
    "    query1 = f'''SELECT states, sum(transaction_amount) AS transaction_amount\n",
    "                from {table_name}\n",
    "                GROUP BY states\n",
    "                ORDER BY transaction_amount desc\n",
    "                LIMIT 10;'''\n",
    "    \n",
    "    cursor.execute(query1)\n",
    "    # Fetching all rows from the executed query\n",
    "    table_1 = cursor.fetchall()\n",
    "    # Committing the changes\n",
    "    mydb.commit()\n",
    "    \n",
    "    # Converting the fetched data into a pandas DataFrame\n",
    "    df_1 = pd.DataFrame(table_1,columns=(\"states\",\"transaction_amount\"))\n",
    "    \n",
    "    # Creating a bar chart with Plotly Express\n",
    "    fig_amount_1 = px.bar(df_1, x=\"states\", y=\"transaction_amount\", title=\"TOP 10 OF TRANSACTION AMOUNT\",hover_name=\"states\",\n",
    "                        color_discrete_sequence=px.colors.sequential.Aggrnyl,height=650,width=600)\n",
    "    # Displaying the bar chart\n",
    "    fig_amount_1.show()\n",
    "\n",
    "\n",
    "    # QUERY_2:\n",
    "    #sql connection \n",
    "    # Establishes a Database Connection: \n",
    "    mydb = psycopg2.connect (host = \"localhost\",\n",
    "                            user = \"postgres\",\n",
    "                            password = \"roomno13\",\n",
    "                            database = \"phonepe_data\",\n",
    "                            port = \"5432\")\n",
    "    cursor = mydb.cursor()\n",
    "\n",
    "    #plot_2\n",
    "    # Executing the SQL query\n",
    "    query2 = f'''SELECT states, sum(transaction_amount) AS transaction_amount\n",
    "                from {table_name}\n",
    "                GROUP BY states\n",
    "                ORDER BY transaction_amount\n",
    "                LIMIT 10;'''\n",
    "\n",
    "    cursor.execute(query2)\n",
    "    # Fetching all rows from the executed query\n",
    "    table_2 = cursor.fetchall()\n",
    "    # Committing the changes\n",
    "    mydb.commit()\n",
    "\n",
    "    # Converting the fetched data into a pandas DataFrame\n",
    "    df_2 = pd.DataFrame(table_2,columns=(\"states\",\"transaction_amount\"))\n",
    "    \n",
    "    # Creating a bar chart with Plotly Express\n",
    "    fig_amount_2 = px.bar(df_2, x=\"states\", y=\"transaction_amount\", title=\"LAST 10 OF TRANSACTION AMOUNT\",hover_name=\"states\",\n",
    "                        color_discrete_sequence=px.colors.sequential.Aggrnyl_r, height=650,width=600)\n",
    "    # Displaying the bar chart\n",
    "    fig_amount_2.show()\n",
    "\n",
    "    \n",
    "    #plot_3\n",
    "    # Executing the SQL query\n",
    "    query3 = f'''select states, AVG(transaction_amount) AS transaction_amount\n",
    "                 FROM {table_name}\n",
    "                 GROUP BY states\n",
    "                 ORDER BY transaction_amount;'''\n",
    "    \n",
    "    cursor.execute(query3)\n",
    "     # Fetching all rows from the executed query\n",
    "    table_3 = cursor.fetchall()\n",
    "    # Committing the changes\n",
    "    mydb.commit()\n",
    "    \n",
    "    # Converting the fetched data into a pandas DataFrame\n",
    "    df_3 = pd.DataFrame(table_3, columns=(\"states\", \"tarnsaction_amount\"))\n",
    "\n",
    "    # Creating a bar chart with Plotly Express\n",
    "    fig_amount_3 = px.bar(df_3, y=\"states\", x=\"tarnsaction_amount\", title=\"TRANSACTION AMOUNT\", hover_name=\"states\", orientation=\"h\",\n",
    "                          color_discrete_sequence=px.colors.sequential.Bluered_r)\n",
    "    # Displaying the bar chart\n",
    "    fig_amount_3.show()\n"
   ]
  },
  {
   "cell_type": "markdown",
   "metadata": {},
   "source": [
    "#top_chart_transaction_amount(table_name):\n",
    "\n",
    "Summary:\n",
    "\n",
    "The function uses three separate queries to generate three different plots.\n",
    "\n",
    "Each query retrieves data based on different criteria (top 10, last 10, and average transaction amounts).\n",
    "\n",
    "The data is visualized using Plotly Express, providing an interactive and visually appealing representation of the transaction data."
   ]
  },
  {
   "cell_type": "code",
   "execution_count": null,
   "metadata": {},
   "outputs": [],
   "source": [
    "# calling top_chart_transaction_amount function\n",
    "top_chart_transaction_amount(\"aggregated_insurance\")"
   ]
  },
  {
   "cell_type": "code",
   "execution_count": null,
   "metadata": {},
   "outputs": [],
   "source": [
    "#sql connection for top chart Transaction Count:\n",
    "def top_chart_transaction_count(table_name):\n",
    "    # Establishes a Database Connection: \n",
    "    mydb = psycopg2.connect (host = \"localhost\",\n",
    "                            user = \"postgres\",\n",
    "                            password = \"roomno13\",\n",
    "                            database = \"phonepe_data\",\n",
    "                            port = \"5432\")\n",
    "    cursor = mydb.cursor()\n",
    "\n",
    "    #plot_1\n",
    "     # Executing the SQL query\n",
    "    query1 = f'''SELECT states, sum(transaction_count) AS transaction_count\n",
    "                from {table_name}\n",
    "                GROUP BY states\n",
    "                ORDER BY transaction_count desc\n",
    "                LIMIT 10;'''\n",
    "\n",
    "    cursor.execute(query1)\n",
    "    # Fetching all rows from the executed query\n",
    "    table_1 = cursor.fetchall()\n",
    "    # Committing the changes\n",
    "    mydb.commit()\n",
    "    \n",
    "    # Converting the fetched data into a pandas DataFrame\n",
    "    df_1 = pd.DataFrame(table_1,columns=(\"states\",\"transaction_count\"))\n",
    "    \n",
    "    # Creating a bar chart with Plotly Express\n",
    "    fig_amount_1 = px.bar(df_1, x=\"states\", y=\"transaction_count\", title=\"TOP 10 OF TRANSACTION COUNT\",hover_name=\"states\",\n",
    "                        color_discrete_sequence=px.colors.sequential.Aggrnyl,height=650,width=600)\n",
    "    # Displaying the bar chart\n",
    "    fig_amount_1.show()\n",
    "\n",
    "\n",
    "    #sql connection\n",
    "    # Establishes a Database Connection: \n",
    "    mydb = psycopg2.connect (host = \"localhost\",\n",
    "                            user = \"postgres\",\n",
    "                            password = \"roomno13\",\n",
    "                            database = \"phonepe_data\",\n",
    "                            port = \"5432\")\n",
    "    cursor = mydb.cursor()\n",
    "\n",
    "    #plot_2\n",
    "     # Executing the SQL query\n",
    "    query2 = f'''SELECT states, sum(transaction_count) AS transaction_count\n",
    "                from {table_name}\n",
    "                GROUP BY states\n",
    "                ORDER BY transaction_count\n",
    "                LIMIT 10;'''\n",
    "\n",
    "    cursor.execute(query2)\n",
    "    # Fetching all rows from the executed query\n",
    "    table_2 = cursor.fetchall()\n",
    "    # Committing the changes\n",
    "    mydb.commit()\n",
    "    \n",
    "    # Converting the fetched data into a pandas DataFrame\n",
    "    df_2 = pd.DataFrame(table_2,columns=(\"states\",\"transaction_count\"))\n",
    "    \n",
    "    # Creating a bar chart with Plotly Express\n",
    "    fig_amount_2 = px.bar(df_2, x=\"states\", y=\"transaction_count\", title=\"LAST 10 OF TRANSACTION COUNT\",hover_name=\"states\",\n",
    "                        color_discrete_sequence=px.colors.sequential.Aggrnyl_r, height=650,width=600)\n",
    "    # Displaying the bar chart\n",
    "    fig_amount_2.show()\n",
    "\n",
    "    \n",
    "    #plot_3\n",
    "     # Executing the SQL query\n",
    "    query3 = f'''select states, AVG(transaction_count) AS transaction_count\n",
    "                 FROM {table_name}\n",
    "                 GROUP BY states\n",
    "                 ORDER BY transaction_count;'''\n",
    "    \n",
    "    cursor.execute(query3)\n",
    "    # Fetching all rows from the executed query\n",
    "    table_3 = cursor.fetchall()\n",
    "    # Committing the changes\n",
    "    mydb.commit()\n",
    "    \n",
    "    # Converting the fetched data into a pandas DataFrame\n",
    "    df_3 = pd.DataFrame(table_3, columns=(\"states\", \"transaction_count\"))\n",
    "    \n",
    "    # Creating a bar chart with Plotly Express\n",
    "    fig_amount_3 = px.bar(df_3, y=\"states\", x=\"transaction_count\", title=\"TRANSACTION COUNT\", hover_name=\"states\", orientation=\"h\",\n",
    "                          color_discrete_sequence=px.colors.sequential.Bluered_r)\n",
    "    # Displaying the bar chart\n",
    "    fig_amount_3.show()\n"
   ]
  },
  {
   "cell_type": "markdown",
   "metadata": {},
   "source": [
    "#top_chart_transaction_count(table_name):\n",
    "\n",
    "Summary:\n",
    "\n",
    "The function uses three separate queries to generate three different plots.\n",
    "\n",
    "Each query retrieves data based on different criteria (top 10, last 10, and average transaction counts).\n",
    "\n",
    "The data is visualized using Plotly Express, providing an interactive and visually appealing representation of the transaction count data."
   ]
  },
  {
   "cell_type": "code",
   "execution_count": null,
   "metadata": {},
   "outputs": [],
   "source": [
    "# calling top_chart_transaction_count Function\n",
    "top_chart_transaction_count(\"aggregated_transaction\")"
   ]
  },
  {
   "cell_type": "code",
   "execution_count": null,
   "metadata": {},
   "outputs": [],
   "source": [
    "#sql connection for top chart REGISTEREDUSERS for QUESTIONS:\n",
    "def top_chart_registered_user(table_name,state):\n",
    "    # Establishes a Database Connection: \n",
    "    mydb = psycopg2.connect (host = \"localhost\",\n",
    "                            user = \"postgres\",\n",
    "                            password = \"roomno13\",\n",
    "                            database = \"phonepe_data\",\n",
    "                            port = \"5432\")\n",
    "    \n",
    "    cursor = mydb.cursor()\n",
    "\n",
    "    #plot_1\n",
    "       # Executing the SQL query\n",
    "    query1 = f'''select districts, sum(registeredusers) as registeredusers\n",
    "                 from {table_name}\n",
    "                 WHERE states= '{state}'\n",
    "                 GROUP BY districts \n",
    "                 Order by registeredusers desc\n",
    "                 limit 10;'''\n",
    "\n",
    "    cursor.execute(query1)\n",
    "    # Fetching all rows from the executed query\n",
    "    table_1 = cursor.fetchall()\n",
    "    # Committing the changes\n",
    "    mydb.commit()\n",
    "\n",
    "    # Converting the fetched data into a pandas DataFrame\n",
    "    df_1 = pd.DataFrame(table_1,columns=(\"districts\",\"registeredusers\"))\n",
    "    \n",
    "    # Creating a bar chart with Plotly Express\n",
    "    fig_amount_1 = px.bar(df_1, x=\"districts\", y=\"registeredusers\", title=\"TOP 10 OF REGISTERED USERS\",hover_name=\"districts\",\n",
    "                        color_discrete_sequence=px.colors.sequential.Aggrnyl,height=650,width=600)\n",
    "    # Displaying the bar chart\n",
    "    fig_amount_1.show()\n",
    "\n",
    "\n",
    "    #plot_2\n",
    "    # Executing the SQL query\n",
    "    query2 = f'''select districts, sum(registeredusers) as registeredusers\n",
    "                 from {table_name}\n",
    "                 WHERE states= '{state}'\n",
    "                 GROUP BY districts \n",
    "                 Order by registeredusers \n",
    "                 limit 10;'''\n",
    "\n",
    "    cursor.execute(query2)\n",
    "    # Fetching all rows from the executed query\n",
    "    table_2 = cursor.fetchall()\n",
    "    # Committing the changes\n",
    "    mydb.commit()\n",
    "\n",
    "    # Converting the fetched data into a pandas DataFrame\n",
    "    df_2 = pd.DataFrame(table_2,columns=(\"districts\",\"registeredusers\"))\n",
    "    \n",
    "    # Creating a bar chart with Plotly Express\n",
    "    fig_amount_2 = px.bar(df_2, x=\"districts\", y=\"registeredusers\", title=\"LAST 10 OF TRANSACTION AMOUNT\",hover_name=\"districts\",\n",
    "                        color_discrete_sequence=px.colors.sequential.Aggrnyl_r, height=650,width=600)\n",
    "    # Displaying the bar chart\n",
    "    fig_amount_2.show()\n",
    "\n",
    "    \n",
    "    #plot_3\n",
    "    # Executing the SQL query\n",
    "    query3 = f'''select districts, AVG(registeredusers) as registeredusers\n",
    "                 from {table_name}\n",
    "                 WHERE states= '{state}'\n",
    "                 GROUP BY districts \n",
    "                 Order by registeredusers;'''\n",
    "    \n",
    "    cursor.execute(query3)\n",
    "    # Fetching all rows from the executed query\n",
    "    table_3 = cursor.fetchall()\n",
    "    # Committing the changes\n",
    "    mydb.commit()\n",
    "    \n",
    "    # Converting the fetched data into a pandas DataFrame\n",
    "    df_3 = pd.DataFrame(table_3, columns=(\"districts\", \"registeredusers\"))\n",
    " \n",
    "    # Creating a bar chart with Plotly Express\n",
    "    fig_amount_3 = px.bar(df_3, y=\"districts\", x=\"registeredusers\", title=\"AVARAGE OF REGISTERED USERS\", hover_name=\"districts\", orientation=\"h\",\n",
    "                          color_discrete_sequence=px.colors.sequential.Bluered_r)\n",
    "    # Displaying the bar chart\n",
    "    fig_amount_3.show()\n"
   ]
  },
  {
   "cell_type": "markdown",
   "metadata": {},
   "source": [
    "#top_chart_registered_user(table_name,state):\n",
    "\n",
    "Summary:\n",
    "\n",
    "The function uses three separate queries to generate three different plots.\n",
    "\n",
    "Each query retrieves data based on different criteria (top 10, last 10, and average registered users).\n",
    "\n",
    "The data is visualized using Plotly Express, providing an interactive and visually appealing representation of the registered user data."
   ]
  },
  {
   "cell_type": "code",
   "execution_count": null,
   "metadata": {},
   "outputs": [],
   "source": [
    "# calling top_chart_registered_user Function\n",
    "top_chart_registered_user(\"map_user\",\"Jharkhand\")"
   ]
  },
  {
   "cell_type": "code",
   "execution_count": null,
   "metadata": {},
   "outputs": [],
   "source": [
    "#sql connection for top chart APPOPENS for QUESTIONS:\n",
    "def top_chart_appopens(table_name,state):\n",
    "    # Establishes a Database Connection: \n",
    "    mydb = psycopg2.connect (host = \"localhost\",\n",
    "                            user = \"postgres\",\n",
    "                            password = \"roomno13\",\n",
    "                            database = \"phonepe_data\",\n",
    "                            port = \"5432\")\n",
    "    cursor = mydb.cursor()\n",
    "\n",
    "    #plot_1\n",
    "    # Executing the SQL query\n",
    "    query1 = f'''select districts, sum(appopens) as appopens\n",
    "                 from {table_name}\n",
    "                 WHERE states= '{state}'\n",
    "                 GROUP BY districts \n",
    "                 Order by appopens desc\n",
    "                 limit 10;'''\n",
    "\n",
    "    cursor.execute(query1)\n",
    "    # Fetching all rows from the executed query\n",
    "    table_1 = cursor.fetchall()\n",
    "    # Committing the changes\n",
    "    mydb.commit()\n",
    "\n",
    "    # Converting the fetched data into a pandas DataFrame\n",
    "    df_1 = pd.DataFrame(table_1,columns=(\"districts\",\"appopens\"))\n",
    "    \n",
    "    # Creating a bar chart with Plotly Express\n",
    "    fig_amount_1 = px.bar(df_1, x=\"districts\", y=\"appopens\", title=\"TOP 10 OF APPOPENS\",hover_name=\"districts\",\n",
    "                        color_discrete_sequence=px.colors.sequential.Aggrnyl,height=650,width=600)\n",
    "    # Displaying the bar chart\n",
    "    fig_amount_1.show()\n",
    "\n",
    "\n",
    "    #plot_2\n",
    "    # Executing the SQL query\n",
    "    query2 = f'''select districts, sum(appopens) as appopens\n",
    "                 from {table_name}\n",
    "                 WHERE states= '{state}'\n",
    "                 GROUP BY districts \n",
    "                 Order by appopens \n",
    "                 limit 10;'''\n",
    "\n",
    "    cursor.execute(query2)\n",
    "    # Fetching all rows from the executed query\n",
    "    table_2 = cursor.fetchall()\n",
    "    # Committing the changes\n",
    "    mydb.commit()\n",
    "\n",
    "    # Converting the fetched data into a pandas DataFrame\n",
    "    df_2 = pd.DataFrame(table_2,columns=(\"districts\",\"appopens\"))\n",
    "    \n",
    "    # Creating a bar chart with Plotly Express\n",
    "    fig_amount_2 = px.bar(df_2, x=\"districts\", y=\"appopens\", title=\"LAST 10 OF APPOPENS \",hover_name=\"districts\",\n",
    "                        color_discrete_sequence=px.colors.sequential.Aggrnyl_r, height=650,width=600)\n",
    "    # Displaying the bar chart\n",
    "    fig_amount_2.show()\n",
    "\n",
    "    \n",
    "    #plot_3\n",
    "    # Executing the SQL query\n",
    "    query3 = f'''select districts, AVG(appopens) as appopens\n",
    "                 from {table_name}\n",
    "                 WHERE states= '{state}'\n",
    "                 GROUP BY districts \n",
    "                 Order by appopens;'''\n",
    "    \n",
    "    cursor.execute(query3)\n",
    "    # Fetching all rows from the executed query\n",
    "    table_3 = cursor.fetchall()\n",
    "    # Committing the changes\n",
    "    mydb.commit()\n",
    "    \n",
    "    # Converting the fetched data into a pandas DataFrame\n",
    "    df_3 = pd.DataFrame(table_3, columns=(\"districts\", \"appopens\"))\n",
    "\n",
    "    # Creating a bar chart with Plotly Express\n",
    "    fig_amount_3 = px.bar(df_3, y=\"districts\", x=\"appopens\", title=\"AVARAGE OF APPOPENS\", hover_name=\"districts\", orientation=\"h\",\n",
    "                          color_discrete_sequence=px.colors.sequential.Bluered_r)\n",
    "    # Displaying the bar chart\n",
    "    fig_amount_3.show()\n"
   ]
  },
  {
   "cell_type": "markdown",
   "metadata": {},
   "source": [
    "#top_chart_appopens(table_name,state):\n",
    "\n",
    "Summary :\n",
    "\n",
    "The function uses three separate queries to generate three different plots, each focusing on different aspects of app opens data.\n",
    "\n",
    "Each query retrieves data based on different criteria (top 10, last 10, and average app opens).\n",
    "\n",
    "The data is visualized using Plotly Express, providing an interactive and visually appealing representation of the app opens data."
   ]
  },
  {
   "cell_type": "code",
   "execution_count": null,
   "metadata": {},
   "outputs": [],
   "source": [
    "# calling top_chart_appopens Function\n",
    "top_chart_appopens(\"map_user\",\"Jharkhand\")"
   ]
  },
  {
   "cell_type": "code",
   "execution_count": null,
   "metadata": {},
   "outputs": [],
   "source": [
    "#sql connection for top chart REGISTEREDUSERS of TOP_USER for QUESTIONS:\n",
    "def top_chart_registered_users(table_name):\n",
    "    # Establishes a Database Connection:\n",
    "    mydb = psycopg2.connect (host = \"localhost\",\n",
    "                            user = \"postgres\",\n",
    "                            password = \"roomno13\",\n",
    "                            database = \"phonepe_data\",\n",
    "                            port = \"5432\")\n",
    "    cursor = mydb.cursor()\n",
    "\n",
    "    #plot_1\n",
    "    # Executing the SQL query\n",
    "    query1 = f'''-- #query for question 10\n",
    "                    select states, sum(registeredusers) as registeredusers\n",
    "                    from {table_name}\n",
    "                    group by states\n",
    "                    order by registeredusers desc\n",
    "                    limit 10'''\n",
    "\n",
    "    cursor.execute(query1)\n",
    "    # Fetching all rows from the executed query\n",
    "    table_1 = cursor.fetchall()\n",
    "    # Committing the changes\n",
    "    mydb.commit()\n",
    "    \n",
    "    # Converting the fetched data into a pandas DataFrame\n",
    "    df_1 = pd.DataFrame(table_1,columns=(\"states\",\"registeredusers\"))\n",
    "    \n",
    "    # Creating a bar chart with Plotly Express\n",
    "    fig_amount_1 = px.bar(df_1, x=\"states\", y=\"registeredusers\", title=\"TOP 10 OF REGISTEREDUSERS\",hover_name=\"states\",\n",
    "                        color_discrete_sequence=px.colors.sequential.Aggrnyl,height=650,width=600)\n",
    "    # Displaying the bar chart\n",
    "    fig_amount_1.show()\n",
    "\n",
    "\n",
    "    #plot_2\n",
    "    # Executing the SQL query\n",
    "    query2 = f'''select states, sum(registeredusers) as registeredusers\n",
    "                 from {table_name}\n",
    "                 group by states\n",
    "                 order by registeredusers \n",
    "                 limit 10'''\n",
    "\n",
    "    cursor.execute(query2)\n",
    "    # Fetching all rows from the executed query\n",
    "    table_2 = cursor.fetchall()\n",
    "    # Committing the changes\n",
    "    mydb.commit()\n",
    "    \n",
    "    # Converting the fetched data into a pandas DataFrame\n",
    "    df_2 = pd.DataFrame(table_2,columns=(\"states\",\"registeredusers\"))\n",
    "    \n",
    "    # Creating a bar chart with Plotly Express\n",
    "    fig_amount_2 = px.bar(df_2, x=\"states\", y=\"registeredusers\", title=\"LAST 10 OF REGISTEREDUSERS \",hover_name=\"states\",\n",
    "                        color_discrete_sequence=px.colors.sequential.Aggrnyl_r, height=650,width=600)\n",
    "    # Displaying the bar chart\n",
    "    fig_amount_2.show()\n",
    "\n",
    "    \n",
    "    #plot_3\n",
    "    # Executing the SQL query\n",
    "    query3 = f'''select states, avg(registeredusers) as registeredusers\n",
    "                 from {table_name}\n",
    "                 group by states\n",
    "                 order by registeredusers ;'''\n",
    "    \n",
    "    cursor.execute(query3)\n",
    "    # Fetching all rows from the executed query\n",
    "    table_3 = cursor.fetchall()\n",
    "    # Committing the changes\n",
    "    mydb.commit()\n",
    "    \n",
    "    # Converting the fetched data into a pandas DataFrame\n",
    "    df_3 = pd.DataFrame(table_3, columns=(\"states\", \"registeredusers\"))\n",
    "\n",
    "    # Creating a bar chart with Plotly Express\n",
    "    fig_amount_3 = px.bar(df_3, y=\"states\", x=\"registeredusers\", title=\"AVARAGE OF REGISTEREDUSERS\", hover_name=\"states\", orientation=\"h\",\n",
    "                          color_discrete_sequence=px.colors.sequential.Bluered_r,height=800,width=1000)\n",
    "    # Displaying the bar chart\n",
    "    fig_amount_3.show()\n"
   ]
  },
  {
   "cell_type": "markdown",
   "metadata": {},
   "source": [
    "#top_chart_registered_users(table_name):\n",
    "\n",
    "Summary :\n",
    "\n",
    "The function uses three separate queries to generate three different plots, each focusing on different aspects of app opens data.\n",
    "\n",
    "Each query retrieves data based on different criteria (top 10, last 10, and average app opens).\n",
    "\n",
    "The data is visualized using Plotly Express, providing an interactive and visually appealing representation of the app opens data."
   ]
  },
  {
   "cell_type": "code",
   "execution_count": null,
   "metadata": {},
   "outputs": [],
   "source": [
    "# calling top_chart_registered_users Function\n",
    "top_chart_registered_users(\"top_user\")"
   ]
  },
  {
   "cell_type": "code",
   "execution_count": null,
   "metadata": {},
   "outputs": [],
   "source": [
    "#  function for Transaction_year_Base\n",
    "\n",
    "def Transaction_amount_count_Y(df,year):\n",
    "    # Filtering the DataFrame by Year.\n",
    "    tran_amount_count_year = df[df[\"Years\"] == year]\n",
    "    # Resetting the Index:\n",
    "    tran_amount_count_year.reset_index(drop = True, inplace= True)\n",
    "    \n",
    "    # Grouping and Summing:\n",
    "    tran_amount_count_year_group = tran_amount_count_year.groupby(\"States\")[[\"Transaction_count\",\"Transaction_amount\"]].sum()\n",
    "     # Resetting the Index:\n",
    "    tran_amount_count_year_group.reset_index(inplace=True)\n",
    "    \n",
    "    # Creating the Bar Chart fig_amount by year\n",
    "    fig_amount = px.bar(tran_amount_count_year_group, x=\"States\", y=\"Transaction_amount\", title=f\"{year} TRANSACTION AMOUNT\",\n",
    "                        color_discrete_sequence=px.colors.sequential.Aggrnyl)\n",
    "    # Displaying the bar chart\n",
    "    fig_amount.show()\n",
    "     \n",
    "    # Creating the Bar Chart fig_Count\n",
    "    fig_count = px.bar(tran_amount_count_year_group, x=\"States\", y=\"Transaction_count\", title=f\"{year} TRANSACTION COUNT\",\n",
    "                        color_discrete_sequence=px.colors.sequential.OrRd_r)\n",
    "    # Displaying the bar chart\n",
    "    fig_count.show()\n",
    "\n",
    "    # Loading the GeoJSON Data:\n",
    "    url = \"https://gist.githubusercontent.com/jbrobst/56c13bbbf9d97d187fea01ca62ea5112/raw/e388c4cae20aa53cb5090210a42ebb9b765c0a36/india_states.geojson\"\n",
    "    response = requests.get(url)\n",
    "    data_1 = json.loads(response.content)\n",
    "    # Extracting State Names:\n",
    "    states_name = []\n",
    "    # This loop iterates over each feature (state) in the GeoJSON data.\n",
    "    for feature in data_1[\"features\"]:\n",
    "        states_name.append(feature[\"properties\"][\"ST_NM\"])\n",
    "\n",
    "    states_name.sort()\n",
    "    \n",
    "    # Creating the Choropleth Map:Fig_India_map1\n",
    "    fig_india_1 = px.choropleth(tran_amount_count_year_group, geojson= data_1, locations= \"States\", featureidkey= \"properties.ST_NM\",\n",
    "                                color= \"Transaction_amount\", color_continuous_scale= \"Rainbow\", \n",
    "                                range_color=(tran_amount_count_year_group[\"Transaction_amount\"].min(),tran_amount_count_year_group[\"Transaction_amount\"].max()),\n",
    "                                hover_name= \"States\", title = f\"{year} TRANSACTION AMOUNT\",fitbounds= \"locations\",\n",
    "                                height= 600,width= 600)\n",
    "    # Hide geographical features\n",
    "    fig_india_1.update_geos(visible = False)\n",
    "    # Display the updated map\n",
    "    fig_india_1.show()\n",
    "\n",
    "    # Creating the Choropleth Map:Fig_India_map2\n",
    "    fig_india_2 = px.choropleth(tran_amount_count_year_group, geojson= data_1, locations= \"States\", featureidkey= \"properties.ST_NM\",\n",
    "                            color= \"Transaction_count\", color_continuous_scale= \"Rainbow\", \n",
    "                            range_color=(tran_amount_count_year_group[\"Transaction_count\"].min(),tran_amount_count_year_group[\"Transaction_count\"].max()),\n",
    "                            hover_name= \"States\", title = f\"{year} TRANSACTION COUNT\",fitbounds= \"locations\",\n",
    "                            height= 600,width= 600)\n",
    "    # Hide geographical features\n",
    "    fig_india_2.update_geos(visible = False)\n",
    "     # Display the updated map\n",
    "    fig_india_2.show()\n",
    "\n",
    "    return  tran_amount_count_year"
   ]
  },
  {
   "cell_type": "markdown",
   "metadata": {},
   "source": [
    "# Transaction_amount_count_Y(df,year):\n",
    "Summary : \n",
    "\n",
    "Filtering and Summarizing Data: It filters the input DataFrame df to include only data for the specified year, and then groups the data by states, summing up the transaction count and amount for each state.\n",
    "\n",
    "Creating Bar Charts: It creates two bar charts using Plotly Express (px.bar). One bar chart shows the total transaction amount for each state (fig_amount), and the other shows the total transaction count for each state (fig_count).\n",
    "\n",
    "Creating Choropleth Maps: It creates two choropleth maps using Plotly Express (px.choropleth). The first map (fig_india_1) visualizes the total transaction amount for each state on a map of India. The second map (fig_india_2) visualizes the total transaction count for each state on the same map.\n",
    "\n",
    "Hiding Geographical Features: It hides the geographical features (state boundaries) of the choropleth maps using the update_geos(visible=False) method, focusing solely on the colored regions representing the data.\n",
    "\n",
    "Returning Filtered Data: Finally, it returns the filtered DataFrame tran_amount_count_year, which contains the transaction data for the specified year."
   ]
  },
  {
   "cell_type": "code",
   "execution_count": null,
   "metadata": {},
   "outputs": [],
   "source": [
    "# calling Transaction_amount_count_Y Function\n",
    "Transaction_amount_count_Y(Aggregated_insurance,2023)"
   ]
  },
  {
   "cell_type": "code",
   "execution_count": null,
   "metadata": {},
   "outputs": [],
   "source": [
    "# function for Transaction_Quarter_Base\n",
    "\n",
    "def Transaction_amount_count_Y_Q(df, quarter):\n",
    "     # Filtering the DataFrame by QUARTER\n",
    "    tran_amount_count_year = df[df[\"Quarter\"] ==  quarter]\n",
    "     # Resetting the Index:\n",
    "    tran_amount_count_year.reset_index(drop = True, inplace= True)\n",
    "    \n",
    "    # Grouping and Summing:\n",
    "    tran_amount_count_year_group = tran_amount_count_year.groupby(\"States\")[[\"Transaction_count\",\"Transaction_amount\"]].sum()\n",
    "    # Resetting the Index:\n",
    "    tran_amount_count_year_group.reset_index(inplace=True)\n",
    "    \n",
    "    # Creating the Bar Chart fig_amount by year{Quarter}\n",
    "    fig_amount = px.bar(tran_amount_count_year_group, x=\"States\", y=\"Transaction_amount\", title=f\"{tran_amount_count_year['Years'].min()} YEAR {quarter} Quarter TRANSACTION AMOUNT\",\n",
    "                        color_discrete_sequence=px.colors.sequential.Aggrnyl)\n",
    "    fig_amount.show()\n",
    "    \n",
    "     # Creating the Bar Chart fig_Count by year{Quarter}\n",
    "    fig_count = px.bar(tran_amount_count_year_group, x=\"States\", y=\"Transaction_count\", title=f\"{tran_amount_count_year['Years'].min()} YEAR {quarter} Quarter TRANSACTION COUNT\",\n",
    "                        color_discrete_sequence=px.colors.sequential.OrRd_r)\n",
    "    fig_count.show()\n",
    "\n",
    "    # Loading the GeoJSON Data:\n",
    "    url = \"https://gist.githubusercontent.com/jbrobst/56c13bbbf9d97d187fea01ca62ea5112/raw/e388c4cae20aa53cb5090210a42ebb9b765c0a36/india_states.geojson\"\n",
    "    response = requests.get(url)\n",
    "    data_1 = json.loads(response.content)\n",
    "    # Extracting State Names:\n",
    "    states_name = []\n",
    "    # This loop iterates over each feature (state) in the GeoJSON data.\n",
    "    for feature in data_1[\"features\"]:\n",
    "        states_name.append(feature[\"properties\"][\"ST_NM\"])\n",
    "\n",
    "    states_name.sort()\n",
    "    \n",
    "    # Creating the Choropleth Map:Fig_India_map1\n",
    "    fig_india_1 = px.choropleth(tran_amount_count_year_group, geojson= data_1, locations= \"States\", featureidkey= \"properties.ST_NM\",\n",
    "                                color= \"Transaction_amount\", color_continuous_scale= \"Rainbow\", \n",
    "                                range_color=(tran_amount_count_year_group[\"Transaction_amount\"].min(),tran_amount_count_year_group[\"Transaction_amount\"].max()),\n",
    "                                hover_name= \"States\", title = f\"{tran_amount_count_year['Years'].min()} YEAR {quarter} Quarter TRANSACTION AMOUNT\",fitbounds= \"locations\",\n",
    "                                height= 600,width= 600)\n",
    "    # Hide geographical features\n",
    "    fig_india_1.update_geos(visible = False)\n",
    "    # Display the updated map\n",
    "    fig_india_1.show()\n",
    "\n",
    "    # Creating the Choropleth Map:Fig_India_map2\n",
    "    fig_india_2 = px.choropleth(tran_amount_count_year_group, geojson= data_1, locations= \"States\", featureidkey= \"properties.ST_NM\",\n",
    "                            color= \"Transaction_count\", color_continuous_scale= \"Rainbow\", \n",
    "                            range_color=(tran_amount_count_year_group[\"Transaction_count\"].min(),tran_amount_count_year_group[\"Transaction_count\"].max()),\n",
    "                            hover_name= \"States\", title = f\"{tran_amount_count_year['Years'].min()} YEAR {quarter} Quarter TRANSACTION COUNT\",fitbounds= \"locations\",\n",
    "                            height= 600,width= 600)\n",
    "    # Hide geographical features\n",
    "    fig_india_2.update_geos(visible = False)\n",
    "    # Display the updated map\n",
    "    fig_india_2.show()\n",
    "\n",
    "    return  tran_amount_count_year\n",
    "\n",
    "    "
   ]
  },
  {
   "cell_type": "markdown",
   "metadata": {},
   "source": [
    "# Transaction_amount_count_Y_Q(df, quarter):\n",
    "Summary:\n",
    "\n",
    "Filtering and Summarizing Data: It filters the input DataFrame df to include only data for the specified quarter, and then groups the data by states, summing up the transaction count and amount for each state.\n",
    "\n",
    "Creating Bar Charts: It creates two bar charts using Plotly Express (px.bar). One bar chart shows the total transaction amount for each state (fig_amount), and the other shows the total transaction count for each state (fig_count).\n",
    "\n",
    "Creating Choropleth Maps: It creates two choropleth maps using Plotly Express (px.choropleth). The first map (fig_india_1) visualizes the total transaction amount for each state on a map of India. The second map (fig_india_2) visualizes the total transaction count for each state on the same map.\n",
    "\n",
    "Hiding Geographical Features: It hides the geographical features (state boundaries) of the choropleth maps using the update_geos(visible=False) method, focusing solely on the colored regions representing the data.\n",
    "\n",
    "Returning Filtered Data: Finally, it returns the filtered DataFrame tran_amount_count_year, which contains the transaction data for the specified quarter."
   ]
  },
  {
   "cell_type": "code",
   "execution_count": null,
   "metadata": {},
   "outputs": [],
   "source": [
    "# function for Transaction Type\n",
    "def Aggre_tran_Transaction_type(df,state):\n",
    "     # Filtering the DataFrame by States\n",
    "    tran_amount_count_year = df[df[\"States\"] == state]\n",
    "    # Resetting the Index:\n",
    "    tran_amount_count_year.reset_index(drop = True, inplace= True)\n",
    "    \n",
    "    # Grouping and Summing:\n",
    "    tran_amount_count_year_group = tran_amount_count_year.groupby(\"Transaction_type\")[[\"Transaction_count\",\"Transaction_amount\"]].sum()\n",
    "    # Resetting the Index:\n",
    "    tran_amount_count_year_group.reset_index(inplace=True)\n",
    "\n",
    "    # creating pie chart using Plotly Express\n",
    "    fig_pie_1 = px.pie(data_frame=tran_amount_count_year_group, names=\"Transaction_type\",values=\"Transaction_amount\",\n",
    "                    width = 600,title=f\"{state.upper()} TRANSACTION AMOUNT\", hole= 0.5)\n",
    "    # Displaying the pie chart_1\n",
    "    fig_pie_1.show()\n",
    "    # creating pie chart using Plotly Express\n",
    "    fig_pie_2 = px.pie(data_frame=tran_amount_count_year_group, names=\"Transaction_type\",values=\"Transaction_count\",\n",
    "                    width = 600,title=f\"{state.upper()} TRANSACTION COUNT\", hole= 0.5)\n",
    "    # Displaying the pie chart_2\n",
    "    fig_pie_2.show()"
   ]
  },
  {
   "cell_type": "markdown",
   "metadata": {},
   "source": [
    "# Aggre_tran_Transaction_type(df,state)\n",
    "Summary:\n",
    "\n",
    "Filtering Data: It filters the input DataFrame df to include only data for the specified state and resets the index of the filtered DataFrame.\n",
    "\n",
    "Grouping and Summarizing Data: It groups the filtered data by transaction type (Transaction_type) and sums up the transaction count and amount for each transaction type.\n",
    "\n",
    "Creating Pie Charts: It creates two pie charts using Plotly Express (px.pie). One pie chart visualizes the distribution of transaction amounts by transaction type (fig_pie_1), and the other visualizes the distribution of transaction counts by transaction type (fig_pie_2). The title of each pie chart includes the name of the state in uppercase letters for clarity.\n",
    "\n",
    "Displaying Charts: It uses the show() method to display each pie chart, providing a visual representation of how different transaction types contribute to the total transaction amount and count for the specified state."
   ]
  },
  {
   "cell_type": "code",
   "execution_count": null,
   "metadata": {},
   "outputs": [],
   "source": [
    "# Aggregated_user_analysis_1\n",
    "def Aggregated_user_plot_1(df,year):\n",
    "     # Filtering the DataFrame by Years\n",
    "    aggregated_user_year= df[df[\"Years\"]==year]\n",
    "    # Resetting the Index:\n",
    "    aggregated_user_year.reset_index(drop=True, inplace= True)\n",
    "    \n",
    "    # summarizing the total transaction counts for each brand in the aggregated_user_year DataFrame.\n",
    "    aggregated_user_year_group = pd.DataFrame(aggregated_user_year.groupby(\"Brands\")[\"Transaction_count\"].sum())\n",
    "    # resets the index of the aggregated_user_year_group\n",
    "    aggregated_user_year_group.reset_index(inplace=True)\n",
    "    \n",
    "    # fig_bar_1 chart will show a bar for each brand:\n",
    "    fig_bar_1 = px.bar(aggregated_user_year_group,x=\"Brands\",y=\"Transaction_count\",title=f\"{year}BRANDS and TRANSACTION COUNT\",\n",
    "                    width=1000, color_discrete_sequence= px.colors.sequential.haline_r, hover_name=\"Brands\")\n",
    "    # Displaying the bar chart\n",
    "    fig_bar_1.show()\n",
    "\n",
    "    return aggregated_user_year"
   ]
  },
  {
   "cell_type": "markdown",
   "metadata": {},
   "source": [
    "# Aggregated_user_plot_1(df,year)\n",
    "Summary: \n",
    "\n",
    "Filtering Data: It filters the input DataFrame df to include only data for the specified year.\n",
    "\n",
    "Resetting Index: It resets the index of the filtered DataFrame aggregated_user_year to ensure consistent indexing.\n",
    "\n",
    "Grouping and Summarizing: It calculates the total transaction counts for each brand (Brands) in the aggregated_user_year DataFrame and stores the result in the aggregated_user_year_group DataFrame.\n",
    "\n",
    "Resetting Index (Again): It resets the index of the aggregated_user_year_group DataFrame.\n",
    "\n",
    "Creating a Bar Chart: It uses Plotly Express (px.bar) to create a bar chart (fig_bar_1) visualizing the transaction count for each brand. The chart includes the brand names on the x-axis, transaction counts on the y-axis, and a title reflecting the year of analysis. It also uses a specific color sequence for the bars and allows hovering over the bars to display the brand names.\n",
    "\n",
    "Displaying the Chart: It displays the created bar chart using fig_bar_1.show().\n",
    "\n",
    "Returning Data: It returns the filtered and indexed aggregated_user_year DataFrame."
   ]
  },
  {
   "cell_type": "code",
   "execution_count": null,
   "metadata": {},
   "outputs": [],
   "source": [
    "#Aggregated user analysis_2\n",
    "def Aggregated_user_plot_2(df,quarter):\n",
    "    # Filtering the DataFrame by QUARTER\n",
    "    aggregated_user_year_quarter= df[df[\"Quarter\"]==quarter]\n",
    "    # Resetting the Index:\n",
    "    aggregated_user_year_quarter.reset_index(drop=True, inplace= True)\n",
    "\n",
    "     # summarizing the total transaction counts for each brand in the aggregated_user_year_Quarter DataFrame.\n",
    "    aggregated_user_year_quarter_group = pd.DataFrame(aggregated_user_year_quarter.groupby(\"Brands\")[\"Transaction_count\"].sum())\n",
    "    # resets the index of the aggregated_user_year_quarter_group\n",
    "    aggregated_user_year_quarter_group.reset_index(inplace=True)\n",
    "\n",
    "    # fig_bar_1 chart will show a bar for each brand:\n",
    "    fig_bar_1 = px.bar(aggregated_user_year_quarter_group,x=\"Brands\",y=\"Transaction_count\",title=f\"Quarter-{quarter} BRANDS and TRANSACTION COUNT\",\n",
    "                    width=1000, color_discrete_sequence= px.colors.sequential.haline_r, hover_name=\"Brands\")\n",
    "    # Displaying the bar chart\n",
    "    fig_bar_1.show()\n",
    "\n",
    "    return aggregated_user_year_quarter\n"
   ]
  },
  {
   "cell_type": "markdown",
   "metadata": {},
   "source": [
    "# Aggregated_user_plot_2(df,quarter):\n",
    "\n",
    "Summary:\n",
    "\n",
    "Filtering Data: It filters the input DataFrame df to include only data for the specified quarter.\n",
    "\n",
    "Resetting Index: It resets the index of the filtered DataFrame aggregated_user_year_quarter to ensure consistent indexing.\n",
    "\n",
    "Grouping and Summarizing: It calculates the total transaction counts for each brand (Brands) in the aggregated_user_year_quarter DataFrame and stores the result in the aggregated_user_year_quarter_group DataFrame.\n",
    "\n",
    "Resetting Index (Again): It resets the index of the aggregated_user_year_quarter_group DataFrame.\n",
    "\n",
    "Creating a Bar Chart: It uses Plotly Express (px.bar) to create a bar chart (fig_bar_1) visualizing the transaction count for each brand. The chart includes the brand names on the x-axis, transaction counts on the y-axis, and a title reflecting the quarter of analysis. It also uses a specific color sequence for the bars and allows hovering over the bars to display the brand names.\n",
    "\n",
    "Displaying the Chart: It displays the created bar chart using fig_bar_1.show().\n",
    "\n",
    "Returning Data: It returns the filtered and indexed aggregated_user_year_quarter DataFrame."
   ]
  },
  {
   "cell_type": "code",
   "execution_count": null,
   "metadata": {},
   "outputs": [],
   "source": [
    "#Aggregated_user analysis 3\n",
    "def Aggregated_user_plot_3(df,states):\n",
    "    # Filtering the DataFrame by States\n",
    "    aggregated_user_year_q_s = df[df[\"States\"] == states]\n",
    "    # Resetting the Index:\n",
    "    aggregated_user_year_q_s.reset_index(drop=True, inplace=True)\n",
    "    \n",
    "    # creating  line plot for brands by state\n",
    "    fig_line_1 = px.line(aggregated_user_year_q_s, x=\"Brands\", y= \"Transaction_count\",hover_data= ['Percentage'],\n",
    "                        title=f\"{states.upper()}: BRANDS, TRANSACTION COUNT, PERCENTAGE\",width = 1000, markers=True)\n",
    "    # Displaying the bar chart\n",
    "    fig_line_1.show()"
   ]
  },
  {
   "cell_type": "markdown",
   "metadata": {},
   "source": [
    "# Aggregated_user_plot_3(df,states):\n",
    "\n",
    "Summary:\n",
    "\n",
    "Filtering Data: It filters the input DataFrame df to include only data for the specified states.\n",
    "\n",
    "Resetting Index: It resets the index of the filtered DataFrame aggregated_user_year_q_s to ensure consistent indexing.\n",
    "\n",
    "Creating a Line Chart: It uses Plotly Express (px.line) to create a line chart (fig_line_1) visualizing the transaction count for each brand (Brands). The x-axis represents the brands, while the y-axis represents the transaction count. The title of the chart includes the state name in uppercase letters. It also includes markers on the lines and allows hovering over the lines to display additional data, such as the percentage.\n",
    "\n",
    "Displaying the Chart: It displays the created line chart using fig_line_1.show()."
   ]
  },
  {
   "cell_type": "code",
   "execution_count": null,
   "metadata": {},
   "outputs": [],
   "source": [
    "# MAP insurance districts \n",
    "def Map_insurance_District(df,state):\n",
    "    # Filtering the DataFrame by States\n",
    "    tran_amount_count_year = df[df[\"States\"] == state]\n",
    "    # Resetting the Index:\n",
    "    tran_amount_count_year.reset_index(drop = True, inplace= True)\n",
    "    \n",
    "    # summarizing the total transaction counts for each Districts in the tran_amount_count_year DataFrame.\n",
    "    tran_amount_count_year_group = tran_amount_count_year.groupby(\"Districts\")[[\"Transaction_count\",\"Transaction_amount\"]].sum()\n",
    "    # resets the index of the tran_amount_count_year_group\n",
    "    tran_amount_count_year_group.reset_index(inplace=True)\n",
    "\n",
    "     # creating  bar plot for Districts by Transaction_amount\n",
    "    fig_bar_1 = px.bar(tran_amount_count_year,x= \"Transaction_amount\", y= \"Districts\", orientation=\"h\",\n",
    "                       title =f\"{state.upper()} DISTRICT AND TRANSACTION AMOUNT\",color_discrete_sequence= px.colors.sequential.Mint_r)\n",
    "    # Displaying the bar chart\n",
    "    fig_bar_1.show()\n",
    "    \n",
    "     # creating  bar plot for Districts by Transaction_count\n",
    "    fig_bar_2 = px.bar(tran_amount_count_year_group, x=\"Transaction_count\", y=\"Districts\", orientation=\"h\",\n",
    "                       title=f\"{state.upper()} DISTRICTS AND TRANSACTION COUNT\",color_discrete_sequence= px.colors.sequential.Bluyl_r)\n",
    "    # Displaying the bar chart\n",
    "    fig_bar_2.show()"
   ]
  },
  {
   "cell_type": "markdown",
   "metadata": {},
   "source": [
    "# Map_insurance_District(df,state):\n",
    "Summary:\n",
    "\n",
    "Filtering Data: It filters the input DataFrame df to include only data for the specified state.\n",
    "\n",
    "Resetting Index: It resets the index of the filtered DataFrame tran_amount_count_year to ensure consistent indexing.\n",
    "\n",
    "Grouping and Summing: It groups the data by districts (Districts) and calculates the total transaction count and amount for each district.\n",
    "\n",
    "Creating Bar Charts: It uses Plotly Express (px.bar) to create two horizontal bar charts:\n",
    "\n",
    "Displaying the Charts: It displays the created bar charts (fig_bar_1 and fig_bar_2) using .show().\n",
    "\n",
    "Overall, these visualizations provide insights into the distribution of transaction amounts and counts across different districts within a specific state, helping to identify districts with higher or lower transaction activities."
   ]
  },
  {
   "cell_type": "code",
   "execution_count": null,
   "metadata": {},
   "outputs": [],
   "source": [
    "# MAP USER PLOT 1\n",
    "def map_user_plot_1(df,year):\n",
    "    # Filtering the DataFrame by Years\n",
    "    Map_user_year= df[df[\"Years\"]==year]\n",
    "    # Resetting the Index:\n",
    "    Map_user_year.reset_index(drop=True,inplace= True)\n",
    "\n",
    "    # summarizing the total RegisteredUsers,AppOpens for each States in the Map_user_year DataFrame.\n",
    "    Map_user_year_group = Map_user_year.groupby(\"States\")[[\"RegisteredUsers\",\"AppOpens\"]].sum()\n",
    "    # resets the index of the Map_user_year_group\n",
    "    Map_user_year_group.reset_index(inplace=True)\n",
    "    \n",
    "    # creating  line plot for State by RegisteredUsers,AppOpens\n",
    "    fig_line_1 = px.line(Map_user_year_group, x=\"States\", y= [\"RegisteredUsers\",\"AppOpens\"],\n",
    "                        title= f\"{year} STATES REGISTERED USERS APPOPENS\",width = 1000, height=800, markers=True)\n",
    "    # Displaying the line chart_1\n",
    "    fig_line_1.show()\n",
    "\n",
    "    return Map_user_year\n"
   ]
  },
  {
   "cell_type": "code",
   "execution_count": null,
   "metadata": {},
   "outputs": [],
   "source": [
    "# MAP USER PLOT 2\n",
    "def map_user_plot_2(df,quarter):\n",
    "    # Filtering the DataFrame by Quarter\n",
    "    Map_user_year_Q= df[df[\"Quarter\"]==quarter]\n",
    "    # Resetting the Index:\n",
    "    Map_user_year_Q.reset_index(drop=True,inplace= True)\n",
    "\n",
    "    # summarizing the total RegisteredUsers,AppOpens for each States in the Map_user_year DataFrame.\n",
    "    Map_user_year_Q_group = Map_user_year_Q.groupby(\"States\")[[\"RegisteredUsers\",\"AppOpens\"]].sum()\n",
    "    # resets the index of the Map_user_year_Q\n",
    "    Map_user_year_Q_group.reset_index(inplace=True)\n",
    "   \n",
    "    # creating  line plot for States by RegisteredUsers,AppOpens\n",
    "    fig_line_1 = px.line(Map_user_year_Q_group, x=\"States\", y= [\"RegisteredUsers\",\"AppOpens\"],\n",
    "                        title= f\"{df['Years'].min()}-year {quarter} QUARTER, REGISTERED USERS, APPOPENS\",width = 1000, height=800, markers=True,\n",
    "                        color_discrete_sequence=px.colors.sequential.Rainbow_r)\n",
    "    # Displaying the line chart_1\n",
    "    fig_line_1.show()\n",
    "\n",
    "    return Map_user_year_Q"
   ]
  },
  {
   "cell_type": "code",
   "execution_count": null,
   "metadata": {},
   "outputs": [],
   "source": [
    "# MAP USER PLOT 3\n",
    "def map_user_plot_3(df,states):\n",
    "    # Filtering the DataFrame by States\n",
    "    map_user_year_quarter_state= df[df[\"States\"]==states]\n",
    "    # Resetting the Index:\n",
    "    map_user_year_quarter_state.reset_index(drop=True, inplace= True)\n",
    "    \n",
    "    # creating  bar plot for Districts by RegisteredUsers,AppOpens\n",
    "    fig_map_user_bar_1= px.bar(map_user_year_quarter_state, x= \"RegisteredUsers\", y= \"Districts\", orientation=\"h\",\n",
    "                            title=\"REGISTERED USERS\", height= 800, color_discrete_sequence= px.colors.sequential.OrRd_r)\n",
    "    # Displaying the bar chart_1\n",
    "    fig_map_user_bar_1.show()\n",
    "    \n",
    "    # creating  bar plot for Districts by AppOpens\n",
    "    fig_map_user_bar_2= px.bar(map_user_year_quarter_state, x= \"AppOpens\", y= \"Districts\", orientation=\"h\",\n",
    "                            title=\"APPOPENS\", height= 800, color_discrete_sequence= px.colors.sequential.Peach_r)\n",
    "    # Displaying the bar chart_2\n",
    "    fig_map_user_bar_2.show()"
   ]
  },
  {
   "cell_type": "code",
   "execution_count": null,
   "metadata": {},
   "outputs": [],
   "source": [
    "# TOP_INSURANCE_PLOT_!\n",
    "def Top_insurance_plot_1(df,state):\n",
    "    # Filtering the DataFrame by States\n",
    "    Top_insueance_year= df[df[\"States\"]==state]\n",
    "    # Resetting the Index:\n",
    "    Top_insueance_year.reset_index(drop=True,inplace= True)\n",
    "    \n",
    "    # creating  bar plot for Transaction_amount by Quarter\n",
    "    fig_Top_insurance_bar_1= px.bar(Top_insueance_year, x= \"Quarter\", y= \"Transaction_amount\",hover_data=[\"Pincodes\"],\n",
    "                            title=\"TRANSACTION AMOUNT\", height= 800, color_discrete_sequence= px.colors.sequential.OrRd_r)\n",
    "    # Displaying the bar chart_1\n",
    "    fig_Top_insurance_bar_1.show()\n",
    "    \n",
    "    # creating  bar plot for Transaction_count by Quarter\n",
    "    fig_Top_insurance_bar_2= px.bar(Top_insueance_year, x= \"Quarter\", y= \"Transaction_count\",hover_data=[\"Pincodes\"],\n",
    "                            title=\"TRANSACTION COUNT\", height= 800, color_discrete_sequence= px.colors.sequential.Blackbody_r)\n",
    "    # Displaying the bar chart_2\n",
    "    fig_Top_insurance_bar_2.show()"
   ]
  },
  {
   "cell_type": "code",
   "execution_count": null,
   "metadata": {},
   "outputs": [],
   "source": [
    "#TOP USER PLOT !:\n",
    "def Top_user_plot_1(df,year):\n",
    "    # Filtering the DataFrame by States\n",
    "    Top_user_year= df[df[\"Years\"]==year]\n",
    "    # Resetting the Index:\n",
    "    Top_user_year.reset_index(drop=True, inplace= True)\n",
    "\n",
    "    # summarizing the total RegisteredUsers,AppOpens for each States with Quarter in the Top_user_year_group.\n",
    "    Top_user_year_group = pd.DataFrame(Top_user_year.groupby([\"States\",\"Quarter\"])[\"RegisteredUsers\"].sum())\n",
    "    # resets the index of the Top_user_year\n",
    "    Top_user_year_group.reset_index(inplace=True)\n",
    "    \n",
    "    # creating  bar plot for states,RegisteredUsers by Quarter\n",
    "    fig_top_plot_1 = px.bar(Top_user_year_group,x=\"States\",y=\"RegisteredUsers\",color=\"Quarter\",width=1000, height=800,\n",
    "                            color_discrete_sequence= px.colors.sequential.Greens_r,hover_name=\"States\",\n",
    "                            title=f\"{year} REGISTERED USERS\")\n",
    "    # Displaying the bar chart_1\n",
    "    fig_top_plot_1.show()\n",
    "\n",
    "    return  Top_user_year"
   ]
  },
  {
   "cell_type": "code",
   "execution_count": null,
   "metadata": {},
   "outputs": [],
   "source": [
    "# Top user_plot_2\n",
    "def Top_user_plot_2(df,state):\n",
    "    # Filtering the DataFrame by States\n",
    "    Top_user_year_state= df[df[\"States\"]==state]\n",
    "    # Resetting the Index:\n",
    "    Top_user_year_state.reset_index(drop=True, inplace= True)\n",
    "\n",
    "    # creating  bar plot for PINCODES,QUARTER,RegisteredUsers by Quarter\n",
    "    fig_top_plot_2 = px.bar(Top_user_year_state,x=\"Quarter\",y=\"RegisteredUsers\",title=\"REGISTERED USERS,PINCODES,QUARTER\",\n",
    "                        width= 1000, height= 800, color=\"RegisteredUsers\",hover_data = [\"Pincodes\"],color_continuous_scale=px.colors.sequential.Purp_r)\n",
    "    # Displaying the bar chart_1\n",
    "    fig_top_plot_2.show()"
   ]
  },
  {
   "cell_type": "code",
   "execution_count": null,
   "metadata": {},
   "outputs": [],
   "source": [
    "map_user_plot_3(Map_user,\"Uttar Pradesh\")"
   ]
  },
  {
   "cell_type": "markdown",
   "metadata": {},
   "source": [
    "## AGGREGATED INSURANCE"
   ]
  },
  {
   "cell_type": "code",
   "execution_count": null,
   "metadata": {},
   "outputs": [],
   "source": [
    "tran_amount_count_year = Transaction_amount_count_Y(Aggregated_insurance,2020)"
   ]
  },
  {
   "cell_type": "code",
   "execution_count": null,
   "metadata": {},
   "outputs": [],
   "source": [
    "Transaction_amount_count_Y_Q"
   ]
  },
  {
   "cell_type": "code",
   "execution_count": null,
   "metadata": {},
   "outputs": [],
   "source": [
    "Transaction_amount_count_Y_Q(tran_amount_count_year,2)"
   ]
  },
  {
   "cell_type": "markdown",
   "metadata": {},
   "source": []
  },
  {
   "cell_type": "markdown",
   "metadata": {},
   "source": [
    "## AGGREGATED TRANSACTION"
   ]
  },
  {
   "cell_type": "code",
   "execution_count": null,
   "metadata": {},
   "outputs": [],
   "source": [
    "Aggre_tran_amount_count_year = Transaction_amount_count_Y(Aggregated_transacation,2023)"
   ]
  },
  {
   "cell_type": "code",
   "execution_count": null,
   "metadata": {},
   "outputs": [],
   "source": [
    "Aggre_tran_Transaction_type(Aggre_tran_amount_count_year,'Jharkhand')"
   ]
  },
  {
   "cell_type": "code",
   "execution_count": null,
   "metadata": {},
   "outputs": [],
   "source": [
    "Aggre_tran_amount_count_year_Q = Transaction_amount_count_Y_Q(Aggre_tran_amount_count_year,3)"
   ]
  },
  {
   "cell_type": "code",
   "execution_count": null,
   "metadata": {},
   "outputs": [],
   "source": [
    "Aggre_tran_Transaction_type(Aggre_tran_amount_count_year_Q,'Jharkhand')"
   ]
  },
  {
   "cell_type": "code",
   "execution_count": null,
   "metadata": {},
   "outputs": [],
   "source": [
    "Aggre_tran_amount_count_year"
   ]
  },
  {
   "cell_type": "code",
   "execution_count": null,
   "metadata": {},
   "outputs": [],
   "source": [
    "Aggre_tran_Transaction_type(Aggre_tran_amount_count_year,'Jharkhand')"
   ]
  },
  {
   "cell_type": "markdown",
   "metadata": {},
   "source": [
    "## AGGREGATED USER"
   ]
  },
  {
   "cell_type": "code",
   "execution_count": null,
   "metadata": {},
   "outputs": [],
   "source": [
    "Aggregated_user_Y = Aggregated_user_plot_1(Aggregated_user,2020)"
   ]
  },
  {
   "cell_type": "code",
   "execution_count": null,
   "metadata": {},
   "outputs": [],
   "source": [
    "Aggregated_user_Y_Q = Aggregated_user_plot_2(Aggregated_user_Y,3)"
   ]
  },
  {
   "cell_type": "code",
   "execution_count": null,
   "metadata": {},
   "outputs": [],
   "source": [
    "Aggregated_user_plot_3(Aggregated_user_Y_Q,\"Andaman & Nicobar\")"
   ]
  },
  {
   "cell_type": "code",
   "execution_count": null,
   "metadata": {},
   "outputs": [],
   "source": [
    "Aggregated_user_Y_Q"
   ]
  },
  {
   "cell_type": "code",
   "execution_count": null,
   "metadata": {},
   "outputs": [],
   "source": [
    "\n",
    "Aggregated_user_Y"
   ]
  },
  {
   "cell_type": "markdown",
   "metadata": {},
   "source": [
    "### MAP INSURANCE"
   ]
  },
  {
   "cell_type": "code",
   "execution_count": null,
   "metadata": {},
   "outputs": [],
   "source": [
    "Map_insur_tran_amount_count_year = Transaction_amount_count_Y(Map_insurance,2023)"
   ]
  },
  {
   "cell_type": "code",
   "execution_count": null,
   "metadata": {},
   "outputs": [],
   "source": [
    "Map_insurance_District(Map_insur_tran_amount_count_year,'West Bengal')"
   ]
  },
  {
   "cell_type": "code",
   "execution_count": null,
   "metadata": {},
   "outputs": [],
   "source": [
    "Map_insur_tran_amount_count_year_Q = Transaction_amount_count_Y_Q(Map_insur_tran_amount_count_year,3)"
   ]
  },
  {
   "cell_type": "code",
   "execution_count": null,
   "metadata": {},
   "outputs": [],
   "source": [
    "Map_insurance_District(Map_insur_tran_amount_count_year_Q,'Jharkhand')"
   ]
  },
  {
   "cell_type": "markdown",
   "metadata": {},
   "source": [
    "### Map_transaction\n"
   ]
  },
  {
   "cell_type": "code",
   "execution_count": null,
   "metadata": {},
   "outputs": [],
   "source": [
    "Map_transaction_tran_amount_count_year = Transaction_amount_count_Y(Map_transaction,2023)"
   ]
  },
  {
   "cell_type": "code",
   "execution_count": null,
   "metadata": {},
   "outputs": [],
   "source": [
    "Map_insurance_District(Map_transaction_tran_amount_count_year,'West Bengal')"
   ]
  },
  {
   "cell_type": "code",
   "execution_count": null,
   "metadata": {},
   "outputs": [],
   "source": [
    "Map_transaction_tran_amount_count_year_Q = Transaction_amount_count_Y_Q(Map_transaction_tran_amount_count_year,3)"
   ]
  },
  {
   "cell_type": "code",
   "execution_count": null,
   "metadata": {},
   "outputs": [],
   "source": [
    "Map_insurance_District(Map_transaction_tran_amount_count_year_Q,'Jharkhand')"
   ]
  },
  {
   "cell_type": "markdown",
   "metadata": {},
   "source": [
    "### Map User"
   ]
  },
  {
   "cell_type": "code",
   "execution_count": null,
   "metadata": {},
   "outputs": [],
   "source": [
    "Map_user_Year = map_user_plot_1(Map_user,2020)"
   ]
  },
  {
   "cell_type": "code",
   "execution_count": null,
   "metadata": {},
   "outputs": [],
   "source": [
    "Map_user_year_quarter = map_user_plot_2(Map_user_Year,2)"
   ]
  },
  {
   "cell_type": "code",
   "execution_count": null,
   "metadata": {},
   "outputs": [],
   "source": [
    "Map_user_year_quarter"
   ]
  },
  {
   "cell_type": "code",
   "execution_count": null,
   "metadata": {},
   "outputs": [],
   "source": [
    "map_user_plot_3(Map_user,\"Nagaland\")"
   ]
  },
  {
   "cell_type": "markdown",
   "metadata": {},
   "source": [
    "### TOP INSURANCE"
   ]
  },
  {
   "cell_type": "code",
   "execution_count": null,
   "metadata": {},
   "outputs": [],
   "source": [
    "Top_Insurance_tran_amount_count_year = Transaction_amount_count_Y(Top_Insurance,2023)"
   ]
  },
  {
   "cell_type": "code",
   "execution_count": null,
   "metadata": {},
   "outputs": [],
   "source": [
    "Top_insurance_plot_1(Top_Insurance_tran_amount_count_year,\"West Bengal\")"
   ]
  },
  {
   "cell_type": "code",
   "execution_count": null,
   "metadata": {},
   "outputs": [],
   "source": [
    "Top_Insurance_tran_amount_count_year_Q = Transaction_amount_count_Y_Q(Top_Insurance_tran_amount_count_year,3)"
   ]
  },
  {
   "cell_type": "markdown",
   "metadata": {},
   "source": [
    "### TOP TRANSACTION"
   ]
  },
  {
   "cell_type": "code",
   "execution_count": null,
   "metadata": {},
   "outputs": [],
   "source": [
    "Top_Transaction_tran_amount_count_year = Transaction_amount_count_Y(Top_Insurance_tran_amount_count_year,2023)"
   ]
  },
  {
   "cell_type": "code",
   "execution_count": null,
   "metadata": {},
   "outputs": [],
   "source": [
    "Top_insurance_plot_1(Top_Transaction_tran_amount_count_year,\"West Bengal\")"
   ]
  },
  {
   "cell_type": "code",
   "execution_count": null,
   "metadata": {},
   "outputs": [],
   "source": [
    "Top_Transaction_tran_amount_count_year_Q = Transaction_amount_count_Y_Q(Top_Transaction_tran_amount_count_year,3)"
   ]
  },
  {
   "cell_type": "markdown",
   "metadata": {},
   "source": [
    "### TOP USER"
   ]
  },
  {
   "cell_type": "code",
   "execution_count": null,
   "metadata": {},
   "outputs": [],
   "source": [
    "Top_user_year = Top_user_plot_1(Top_user,2020)"
   ]
  },
  {
   "cell_type": "code",
   "execution_count": null,
   "metadata": {},
   "outputs": [],
   "source": [
    "Top_user_plot_2(Top_user_year,\"West Bengal\")"
   ]
  },
  {
   "cell_type": "code",
   "execution_count": null,
   "metadata": {},
   "outputs": [],
   "source": [
    "Top_user_year"
   ]
  }
 ],
 "metadata": {
  "kernelspec": {
   "display_name": "Python 3",
   "language": "python",
   "name": "python3"
  },
  "language_info": {
   "codemirror_mode": {
    "name": "ipython",
    "version": 3
   },
   "file_extension": ".py",
   "mimetype": "text/x-python",
   "name": "python",
   "nbconvert_exporter": "python",
   "pygments_lexer": "ipython3",
   "version": "3.11.5"
  }
 },
 "nbformat": 4,
 "nbformat_minor": 2
}
