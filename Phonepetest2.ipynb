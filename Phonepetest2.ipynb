{
 "cells": [
  {
   "cell_type": "code",
   "execution_count": 1,
   "metadata": {},
   "outputs": [],
   "source": [
    "import pandas as pd\n",
    "import psycopg2\n",
    "import plotly.express as px\n",
    "import requests\n",
    "import json\n"
   ]
  },
  {
   "cell_type": "code",
   "execution_count": 2,
   "metadata": {},
   "outputs": [],
   "source": [
    "#Dataframe creation\n",
    "\n",
    "#sql connection\n",
    "mydb = psycopg2.connect (host = \"localhost\",\n",
    "                         user = \"postgres\",\n",
    "                         password = \"roomno13\",\n",
    "                         database = \"phonepe_data\",\n",
    "                         port = \"5432\")\n",
    "cursor = mydb.cursor()\n",
    "\n",
    "#Aggregated_insurance_df\n",
    "cursor.execute(\"SELECT * FROM aggregated_insurance\")\n",
    "mydb.commit()\n",
    "table1 = cursor.fetchall()\n",
    "\n",
    "Aggregated_insurance = pd.DataFrame(table1,columns=(\"States\",\"Years\",\"Quarter\",\"Transaction_type\",\"Transaction_count\",\"Transaction_amount\"))\n",
    "\n",
    "\n",
    "#Aggregated_transacation_df\n",
    "cursor.execute(\"SELECT * FROM aggregated_transaction\")\n",
    "mydb.commit()\n",
    "table2 = cursor.fetchall()\n",
    "\n",
    "Aggregated_transacation = pd.DataFrame(table2,columns=(\"States\",\"Years\",\"Quarter\",\"Transaction_type\",\"Transaction_count\",\"Transaction_amount\"))\n",
    "\n",
    "\n",
    "#Aggregated_user_df\n",
    "cursor.execute(\"SELECT * FROM aggregated_user\")\n",
    "mydb.commit()\n",
    "table3 = cursor.fetchall()\n",
    "\n",
    "Aggregated_user= pd.DataFrame(table3,columns=(\"States\",\"Years\",\"Quarter\",\"Brands\",\"Transaction_count\",\"Percentage\"))\n",
    "\n",
    "\n",
    "#Map_insurance_df\n",
    "cursor.execute(\"SELECT * FROM map_insurance\")\n",
    "mydb.commit()\n",
    "table4 = cursor.fetchall()\n",
    "\n",
    "Map_insurance= pd.DataFrame(table4,columns=(\"States\",\"Years\",\"Quarter\",\"Districts\",\"Transaction_count\",\"Transaction_amount\"))\n",
    "\n",
    "\n",
    "#Map_transaction_df\n",
    "cursor.execute(\"SELECT * FROM map_transaction\")\n",
    "mydb.commit()\n",
    "table5 = cursor.fetchall()\n",
    "\n",
    "Map_transaction= pd.DataFrame(table5,columns=(\"States\",\"Years\",\"Quarter\",\"Districts\",\"Transaction_count\",\"Transaction_amount\"))\n",
    "\n",
    "\n",
    "#Map_user_df\n",
    "cursor.execute(\"SELECT * FROM map_user\")\n",
    "mydb.commit()\n",
    "table6 = cursor.fetchall()\n",
    "\n",
    "Map_user= pd.DataFrame(table6,columns=(\"States\",\"Years\",\"Quarter\",\"Districts\",\"RegisteredUsers\",\"AppOpens\"))\n",
    "\n",
    "\n",
    "#Top_Insurance_df\n",
    "cursor.execute(\"SELECT * FROM top_insurance\")\n",
    "mydb.commit()\n",
    "table7 = cursor.fetchall()\n",
    "\n",
    "Top_Insurance= pd.DataFrame(table7,columns=(\"States\",\"Years\",\"Quarter\",\"Pincodes\",\"Transaction_count\",\"Transaction_amount\"))\n",
    "\n",
    "\n",
    "#Top_transaction _df\n",
    "cursor.execute(\"SELECT * FROM top_transaction\")\n",
    "mydb.commit()\n",
    "table8 = cursor.fetchall()\n",
    "\n",
    "Top_transaction = pd.DataFrame(table8,columns=(\"States\",\"Years\",\"Quarter\",\"Pincodes\",\"Transaction_count\",\"Transaction_amount\"))\n",
    "\n",
    "\n",
    "#Top_user _df\n",
    "cursor.execute(\"SELECT * FROM top_user\")\n",
    "mydb.commit()\n",
    "table9 = cursor.fetchall()\n",
    "\n",
    "Top_user = pd.DataFrame(table9,columns=(\"States\",\"Years\",\"Quarter\",\"Pincodes\",\"RegisteredUsers\"))\n"
   ]
  },
  {
   "cell_type": "code",
   "execution_count": 3,
   "metadata": {},
   "outputs": [],
   "source": [
    "#  function for Transaction_year_Base\n",
    "\n",
    "def Transaction_amount_count_Y(df,year):\n",
    "    tran_amount_count_year = df[df[\"Years\"] == year]\n",
    "    tran_amount_count_year.reset_index(drop = True, inplace= True)\n",
    "\n",
    "    tran_amount_count_year_group = tran_amount_count_year.groupby(\"States\")[[\"Transaction_count\",\"Transaction_amount\"]].sum()\n",
    "    tran_amount_count_year_group.reset_index(inplace=True)\n",
    "\n",
    "    fig_amount = px.bar(tran_amount_count_year_group, x=\"States\", y=\"Transaction_amount\", title=f\"{year} TRANSACTION AMOUNT\",\n",
    "                        color_discrete_sequence=px.colors.sequential.Aggrnyl)\n",
    "    fig_amount.show()\n",
    "\n",
    "    fig_count = px.bar(tran_amount_count_year_group, x=\"States\", y=\"Transaction_count\", title=f\"{year} TRANSACTION COUNT\",\n",
    "                        color_discrete_sequence=px.colors.sequential.OrRd_r)\n",
    "    fig_count.show()\n",
    "\n",
    "\n",
    "    url = \"https://gist.githubusercontent.com/jbrobst/56c13bbbf9d97d187fea01ca62ea5112/raw/e388c4cae20aa53cb5090210a42ebb9b765c0a36/india_states.geojson\"\n",
    "    response = requests.get(url)\n",
    "    data_1 = json.loads(response.content)\n",
    "    states_name = []\n",
    "    for feature in data_1[\"features\"]:\n",
    "        states_name.append(feature[\"properties\"][\"ST_NM\"])\n",
    "\n",
    "    states_name.sort()\n",
    "\n",
    "    fig_india_1 = px.choropleth(   tran_amount_count_year_group, geojson= data_1, locations= \"States\", featureidkey= \"properties.ST_NM\",\n",
    "                                color= \"Transaction_amount\", color_continuous_scale= \"Rainbow\", \n",
    "                                range_color=(tran_amount_count_year_group[\"Transaction_amount\"].min(),tran_amount_count_year_group[\"Transaction_amount\"].max()),\n",
    "                                hover_name= \"States\", title = f\"{year} TRANSACTION AMOUNT\",fitbounds= \"locations\",\n",
    "                                height= 600,width= 600)\n",
    "    fig_india_1.update_geos(visible = False)\n",
    "    fig_india_1.show()\n",
    "\n",
    "\n",
    "    fig_india_2 = px.choropleth(   tran_amount_count_year_group, geojson= data_1, locations= \"States\", featureidkey= \"properties.ST_NM\",\n",
    "                            color= \"Transaction_count\", color_continuous_scale= \"Rainbow\", \n",
    "                            range_color=(tran_amount_count_year_group[\"Transaction_count\"].min(),tran_amount_count_year_group[\"Transaction_count\"].max()),\n",
    "                            hover_name= \"States\", title = f\"{year} TRANSACTION COUNT\",fitbounds= \"locations\",\n",
    "                            height= 600,width= 600)\n",
    "    fig_india_2.update_geos(visible = False)\n",
    "    fig_india_2.show()\n",
    "\n",
    "    return  tran_amount_count_year"
   ]
  },
  {
   "cell_type": "code",
   "execution_count": null,
   "metadata": {},
   "outputs": [],
   "source": [
    "Transaction_amount_count_Y(Aggregated_insurance,2023)"
   ]
  },
  {
   "cell_type": "code",
   "execution_count": 5,
   "metadata": {},
   "outputs": [],
   "source": [
    "# function for Transaction_Quarter_Base\n",
    "\n",
    "def Transaction_amount_count_Y_Q(df, quarter):\n",
    "    tran_amount_count_year = df[df[\"Quarter\"] ==  quarter]\n",
    "    tran_amount_count_year.reset_index(drop = True, inplace= True)\n",
    "\n",
    "    tran_amount_count_year_group = tran_amount_count_year.groupby(\"States\")[[\"Transaction_count\",\"Transaction_amount\"]].sum()\n",
    "    tran_amount_count_year_group.reset_index(inplace=True)\n",
    "\n",
    "    fig_amount = px.bar(tran_amount_count_year_group, x=\"States\", y=\"Transaction_amount\", title=f\"{tran_amount_count_year['Years'].min()} YEAR {quarter} Quarter TRANSACTION AMOUNT\",\n",
    "                        color_discrete_sequence=px.colors.sequential.Aggrnyl)\n",
    "    fig_amount.show()\n",
    "\n",
    "    fig_count = px.bar(tran_amount_count_year_group, x=\"States\", y=\"Transaction_count\", title=f\"{tran_amount_count_year['Years'].min()} YEAR {quarter} Quarter TRANSACTION COUNT\",\n",
    "                        color_discrete_sequence=px.colors.sequential.OrRd_r)\n",
    "    fig_count.show()\n",
    "\n",
    "\n",
    "    url = \"https://gist.githubusercontent.com/jbrobst/56c13bbbf9d97d187fea01ca62ea5112/raw/e388c4cae20aa53cb5090210a42ebb9b765c0a36/india_states.geojson\"\n",
    "    response = requests.get(url)\n",
    "    data_1 = json.loads(response.content)\n",
    "    states_name = []\n",
    "    for feature in data_1[\"features\"]:\n",
    "        states_name.append(feature[\"properties\"][\"ST_NM\"])\n",
    "\n",
    "    states_name.sort()\n",
    "\n",
    "    fig_india_1 = px.choropleth(   tran_amount_count_year_group, geojson= data_1, locations= \"States\", featureidkey= \"properties.ST_NM\",\n",
    "                                color= \"Transaction_amount\", color_continuous_scale= \"Rainbow\", \n",
    "                                range_color=(tran_amount_count_year_group[\"Transaction_amount\"].min(),tran_amount_count_year_group[\"Transaction_amount\"].max()),\n",
    "                                hover_name= \"States\", title = f\"{tran_amount_count_year['Years'].min()} YEAR {quarter} Quarter TRANSACTION AMOUNT\",fitbounds= \"locations\",\n",
    "                                height= 600,width= 600)\n",
    "    fig_india_1.update_geos(visible = False)\n",
    "    fig_india_1.show()\n",
    "\n",
    "\n",
    "    fig_india_2 = px.choropleth(   tran_amount_count_year_group, geojson= data_1, locations= \"States\", featureidkey= \"properties.ST_NM\",\n",
    "                            color= \"Transaction_count\", color_continuous_scale= \"Rainbow\", \n",
    "                            range_color=(tran_amount_count_year_group[\"Transaction_count\"].min(),tran_amount_count_year_group[\"Transaction_count\"].max()),\n",
    "                            hover_name= \"States\", title = f\"{tran_amount_count_year['Years'].min()} YEAR {quarter} Quarter TRANSACTION COUNT\",fitbounds= \"locations\",\n",
    "                            height= 600,width= 600)\n",
    "    fig_india_2.update_geos(visible = False)\n",
    "    fig_india_2.show()\n",
    "\n",
    "    return  tran_amount_count_year\n",
    "\n",
    "    "
   ]
  },
  {
   "cell_type": "code",
   "execution_count": 6,
   "metadata": {},
   "outputs": [],
   "source": [
    "# function for Transaction Type\n",
    "def Aggre_tran_Transaction_type(df,state):\n",
    "\n",
    "    tran_amount_count_year = df[df[\"States\"] == state]\n",
    "    tran_amount_count_year.reset_index(drop = True, inplace= True)\n",
    "\n",
    "    tran_amount_count_year_group = tran_amount_count_year.groupby(\"Transaction_type\")[[\"Transaction_count\",\"Transaction_amount\"]].sum()\n",
    "    tran_amount_count_year_group.reset_index(inplace=True)\n",
    "\n",
    "\n",
    "    fig_pie_1 = px.pie(data_frame=tran_amount_count_year_group, names=\"Transaction_type\",values=\"Transaction_amount\",\n",
    "                    width = 600,title=f\"{state.upper()} TRANSACTION AMOUNT\", hole= 0.5)\n",
    "\n",
    "    fig_pie_1.show()\n",
    "\n",
    "    fig_pie_2 = px.pie(data_frame=tran_amount_count_year_group, names=\"Transaction_type\",values=\"Transaction_count\",\n",
    "                    width = 600,title=f\"{state.upper()} TRANSACTION COUNT\", hole= 0.5)\n",
    "\n",
    "    fig_pie_2.show()"
   ]
  },
  {
   "cell_type": "code",
   "execution_count": 7,
   "metadata": {},
   "outputs": [],
   "source": [
    "# Aggregated_user_analysis_1\n",
    "def Aggregated_user_plot_1(df,year):\n",
    "    aggregated_user_year= df[df[\"Years\"]==2018]\n",
    "    aggregated_user_year.reset_index(drop=True, inplace= True)\n",
    "\n",
    "    aggregated_user_year_group = pd.DataFrame(aggregated_user_year.groupby(\"Brands\")[\"Transaction_count\"].sum())\n",
    "    aggregated_user_year_group.reset_index(inplace=True)\n",
    "\n",
    "    fig_bar_1 = px.bar(aggregated_user_year_group,x=\"Brands\",y=\"Transaction_count\",title=\"BRANDS and TRANSACTION COUNT\",\n",
    "                    width=1000, color_discrete_sequence= px.colors.sequential.haline, hover_name=\"Brands\")\n",
    "    fig_bar_1.show()\n",
    "\n",
    "    return aggregated_user_year"
   ]
  },
  {
   "cell_type": "code",
   "execution_count": 8,
   "metadata": {},
   "outputs": [],
   "source": [
    "#Aggregated user analysis_2\n",
    "def Aggregated_user_plot_2(df,quarter):\n",
    "    aggregated_user_year_quarter= df[df[\"Quarter\"]==quarter]\n",
    "    aggregated_user_year_quarter.reset_index(drop=True, inplace= True)\n",
    "\n",
    "\n",
    "    aggregated_user_year_quarter_group = pd.DataFrame(aggregated_user_year_quarter.groupby(\"Brands\")[\"Transaction_count\"].sum())\n",
    "    aggregated_user_year_quarter_group.reset_index(inplace=True)\n",
    "\n",
    "    fig_bar_1 = px.bar(aggregated_user_year_quarter_group,x=\"Brands\",y=\"Transaction_count\",title=f\"Quarter-{quarter} BRANDS and TRANSACTION COUNT\",\n",
    "                    width=1000, color_discrete_sequence= px.colors.sequential.haline_r, hover_name=\"Brands\")\n",
    "    fig_bar_1.show()\n",
    "\n",
    "    return aggregated_user_year_quarter\n"
   ]
  },
  {
   "cell_type": "code",
   "execution_count": 9,
   "metadata": {},
   "outputs": [],
   "source": [
    "#Aggregated_user analysis 3\n",
    "def Aggregated_user_plot_3(df,states):\n",
    "    aggregated_user_year_q_s = df[df[\"States\"] == states]\n",
    "    aggregated_user_year_q_s.reset_index(drop=True, inplace=True)\n",
    "\n",
    "    fig_line_1 = px.line(aggregated_user_year_q_s, x=\"Brands\", y= \"Transaction_count\",hover_data= ['Percentage'],\n",
    "                        title=f\"{states.upper()}: BRANDS, TRANSACTION COUNT, PERCENTAGE\",width = 1000, markers=True)\n",
    "    fig_line_1.show()"
   ]
  },
  {
   "cell_type": "code",
   "execution_count": 10,
   "metadata": {},
   "outputs": [],
   "source": [
    "# MAP insurance districts \n",
    "def Map_insurance_District(df,state):\n",
    "\n",
    "    tran_amount_count_year = df[df[\"States\"] == state]\n",
    "    tran_amount_count_year.reset_index(drop = True, inplace= True)\n",
    "\n",
    "    tran_amount_count_year_group = tran_amount_count_year.groupby(\"Districts\")[[\"Transaction_count\",\"Transaction_amount\"]].sum()\n",
    "    tran_amount_count_year_group.reset_index(inplace=True)\n",
    "\n",
    "\n",
    "    fig_bar_1 = px.bar(tran_amount_count_year,x= \"Transaction_amount\", y= \"Districts\", orientation=\"h\",\n",
    "                       title =f\"{state.upper()} DISTRICT AND TRANSACTION AMOUNT\",color_discrete_sequence= px.colors.sequential.Mint_r)\n",
    "\n",
    "    fig_bar_1.show()\n",
    "\n",
    "    fig_bar_2 = px.bar(tran_amount_count_year_group, x=\"Transaction_count\", y=\"Districts\", orientation=\"h\",\n",
    "                       title=f\"{state.upper()} DISTRICTS AND TRANSACTION COUNT\",color_discrete_sequence= px.colors.sequential.Bluyl_r)\n",
    "\n",
    "    fig_bar_2.show()"
   ]
  },
  {
   "cell_type": "code",
   "execution_count": null,
   "metadata": {},
   "outputs": [],
   "source": [
    "# MAP USER PLOT 1\n",
    "def map_user_plot_1(df,year):\n",
    "    Map_user_year= df[df[\"Years\"]==year]\n",
    "    Map_user_year.reset_index(drop=True,inplace= True)\n",
    "\n",
    "\n",
    "    Map_user_year_group = Map_user_year.groupby(\"States\")[[\"RegisteredUsers\",\"AppOpens\"]].sum()\n",
    "    Map_user_year_group.reset_index(inplace=True)\n",
    "\n",
    "    fig_line_1 = px.line(Map_user_year_group, x=\"States\", y= [\"RegisteredUsers\",\"AppOpens\"],\n",
    "                        title= f\"{year} STATES REGISTERED USERS APPOPENS\",width = 1000, height=800, markers=True)\n",
    "    fig_line_1.show()\n",
    "\n",
    "    return Map_user_year"
   ]
  },
  {
   "cell_type": "code",
   "execution_count": 85,
   "metadata": {},
   "outputs": [],
   "source": [
    "# MAP USER PLOT 2\n",
    "def map_user_plot_2(df,quarter):\n",
    "    Map_user_year_Q= df[df[\"Quarter\"]==quarter]\n",
    "    Map_user_year_Q.reset_index(drop=True,inplace= True)\n",
    "\n",
    "\n",
    "    Map_user_year_Q_group = Map_user_year_Q.groupby(\"States\")[[\"RegisteredUsers\",\"AppOpens\"]].sum()\n",
    "    Map_user_year_Q_group.reset_index(inplace=True)\n",
    "\n",
    "    fig_line_1 = px.line(Map_user_year_Q_group, x=\"States\", y= [\"RegisteredUsers\",\"AppOpens\"],\n",
    "                        title= f\"{df['Years'].min()}-year {quarter} QUARTER, REGISTERED USERS, APPOPENS\",width = 1000, height=800, markers=True,\n",
    "                        color_discrete_sequence=px.colors.sequential.Rainbow_r)\n",
    "    fig_line_1.show()\n",
    "\n",
    "    return Map_user_year_Q"
   ]
  },
  {
   "cell_type": "markdown",
   "metadata": {},
   "source": [
    "## AGGREGATED INSURANCE"
   ]
  },
  {
   "cell_type": "code",
   "execution_count": null,
   "metadata": {},
   "outputs": [],
   "source": [
    "tran_amount_count_year = Transaction_amount_count_Y(Aggregated_insurance,2020)"
   ]
  },
  {
   "cell_type": "code",
   "execution_count": 12,
   "metadata": {},
   "outputs": [
    {
     "data": {
      "text/plain": [
       "<function __main__.Transaction_amount_count_Y_Q(df, quarter)>"
      ]
     },
     "execution_count": 12,
     "metadata": {},
     "output_type": "execute_result"
    }
   ],
   "source": [
    "Transaction_amount_count_Y_Q"
   ]
  },
  {
   "cell_type": "code",
   "execution_count": null,
   "metadata": {},
   "outputs": [],
   "source": [
    "Transaction_amount_count_Y_Q(tran_amount_count_year,2)"
   ]
  },
  {
   "cell_type": "markdown",
   "metadata": {},
   "source": []
  },
  {
   "cell_type": "markdown",
   "metadata": {},
   "source": [
    "## AGGREGATED TRANSACTION"
   ]
  },
  {
   "cell_type": "code",
   "execution_count": null,
   "metadata": {},
   "outputs": [],
   "source": [
    "Aggre_tran_amount_count_year = Transaction_amount_count_Y(Aggregated_transacation,2023)"
   ]
  },
  {
   "cell_type": "code",
   "execution_count": null,
   "metadata": {},
   "outputs": [],
   "source": [
    "Aggre_tran_Transaction_type(Aggre_tran_amount_count_year,'Jharkhand')"
   ]
  },
  {
   "cell_type": "code",
   "execution_count": null,
   "metadata": {},
   "outputs": [],
   "source": [
    "Aggre_tran_amount_count_year_Q = Transaction_amount_count_Y_Q(Aggre_tran_amount_count_year,3)"
   ]
  },
  {
   "cell_type": "code",
   "execution_count": null,
   "metadata": {},
   "outputs": [],
   "source": [
    "Aggre_tran_Transaction_type(Aggre_tran_amount_count_year_Q,'Jharkhand')"
   ]
  },
  {
   "cell_type": "code",
   "execution_count": null,
   "metadata": {},
   "outputs": [],
   "source": [
    "Aggre_tran_amount_count_year"
   ]
  },
  {
   "cell_type": "code",
   "execution_count": null,
   "metadata": {},
   "outputs": [],
   "source": [
    "Aggre_tran_Transaction_type(Aggre_tran_amount_count_year,'Jharkhand')"
   ]
  },
  {
   "cell_type": "markdown",
   "metadata": {},
   "source": [
    "## AGGREGATED USER"
   ]
  },
  {
   "cell_type": "code",
   "execution_count": null,
   "metadata": {},
   "outputs": [],
   "source": [
    "Aggregated_user_Y = Aggregated_user_plot_1(Aggregated_user,2020)"
   ]
  },
  {
   "cell_type": "code",
   "execution_count": null,
   "metadata": {},
   "outputs": [],
   "source": [
    "Aggregated_user_Y_Q = Aggregated_user_plot_2(Aggregated_user_Y,3)"
   ]
  },
  {
   "cell_type": "code",
   "execution_count": null,
   "metadata": {},
   "outputs": [],
   "source": [
    "Aggregated_user_plot_3(Aggregated_user_Y_Q,\"Andaman & Nicobar\")"
   ]
  },
  {
   "cell_type": "code",
   "execution_count": null,
   "metadata": {},
   "outputs": [],
   "source": [
    "Aggregated_user_Y_Q"
   ]
  },
  {
   "cell_type": "code",
   "execution_count": null,
   "metadata": {},
   "outputs": [],
   "source": [
    "\n",
    "Aggregated_user_Y"
   ]
  },
  {
   "cell_type": "code",
   "execution_count": null,
   "metadata": {},
   "outputs": [],
   "source": [
    "Aggregated_user"
   ]
  },
  {
   "cell_type": "markdown",
   "metadata": {},
   "source": [
    "### MAP INSURANCE"
   ]
  },
  {
   "cell_type": "code",
   "execution_count": null,
   "metadata": {},
   "outputs": [],
   "source": [
    "Map_insur_tran_amount_count_year = Transaction_amount_count_Y(Map_insurance,2023)"
   ]
  },
  {
   "cell_type": "code",
   "execution_count": null,
   "metadata": {},
   "outputs": [],
   "source": [
    "Map_insurance_District(Map_insur_tran_amount_count_year,'West Bengal')"
   ]
  },
  {
   "cell_type": "code",
   "execution_count": null,
   "metadata": {},
   "outputs": [],
   "source": [
    "Map_insur_tran_amount_count_year_Q = Transaction_amount_count_Y_Q(Map_insur_tran_amount_count_year,3)"
   ]
  },
  {
   "cell_type": "code",
   "execution_count": null,
   "metadata": {},
   "outputs": [],
   "source": [
    "Map_insurance_District(Map_insur_tran_amount_count_year_Q,'Jharkhand')"
   ]
  },
  {
   "cell_type": "markdown",
   "metadata": {},
   "source": [
    "### Map_transaction\n"
   ]
  },
  {
   "cell_type": "code",
   "execution_count": null,
   "metadata": {},
   "outputs": [],
   "source": [
    "Map_transaction_tran_amount_count_year = Transaction_amount_count_Y(Map_transaction,2023)"
   ]
  },
  {
   "cell_type": "code",
   "execution_count": null,
   "metadata": {},
   "outputs": [],
   "source": [
    "Map_insurance_District(Map_transaction_tran_amount_count_year,'West Bengal')"
   ]
  },
  {
   "cell_type": "code",
   "execution_count": null,
   "metadata": {},
   "outputs": [],
   "source": [
    "Map_transaction_tran_amount_count_year_Q = Transaction_amount_count_Y_Q(Map_transaction_tran_amount_count_year,3)"
   ]
  },
  {
   "cell_type": "code",
   "execution_count": null,
   "metadata": {},
   "outputs": [],
   "source": [
    "Map_insurance_District(Map_transaction_tran_amount_count_year_Q,'Jharkhand')"
   ]
  },
  {
   "cell_type": "code",
   "execution_count": null,
   "metadata": {},
   "outputs": [],
   "source": [
    "Map_transaction"
   ]
  },
  {
   "cell_type": "markdown",
   "metadata": {},
   "source": [
    "### Map User"
   ]
  },
  {
   "cell_type": "code",
   "execution_count": 73,
   "metadata": {},
   "outputs": [],
   "source": [
    "# # MAP USER PLOT 1\n",
    "# def map_user_plot_2(df,quarter):\n",
    "#     Map_user_year_Q= df[df[\"Quarter\"]==quarter]\n",
    "#     Map_user_year_Q.reset_index(drop=True,inplace= True)\n",
    "\n",
    "\n",
    "#     Map_user_year_Q_group = Map_user_year_Q.groupby(\"States\")[[\"RegisteredUsers\",\"AppOpens\"]].sum()\n",
    "#     Map_user_year_Q_group.reset_index(inplace=True)\n",
    "\n",
    "#     fig_line_1 = px.line(Map_user_year_Q_group, x=\"States\", y= [\"RegisteredUsers\",\"AppOpens\"],\n",
    "#                         title= f\"{quarter} STATES REGISTERED USERS APPOPENS\",width = 1000, height=800, markers=True,\n",
    "#                         color_discrete_sequence=px.colors.sequential.Rainbow_r)\n",
    "#     fig_line_1.show()\n",
    "\n",
    "#     return Map_user_year_Q"
   ]
  },
  {
   "cell_type": "code",
   "execution_count": 86,
   "metadata": {},
   "outputs": [
    {
     "data": {
      "application/vnd.plotly.v1+json": {
       "config": {
        "plotlyServerURL": "https://plot.ly"
       },
       "data": [
        {
         "hovertemplate": "variable=RegisteredUsers<br>States=%{x}<br>value=%{y}<extra></extra>",
         "legendgroup": "RegisteredUsers",
         "line": {
          "color": "rgb(255,0,0)",
          "dash": "solid"
         },
         "marker": {
          "symbol": "circle"
         },
         "mode": "markers+lines",
         "name": "RegisteredUsers",
         "orientation": "v",
         "showlegend": true,
         "type": "scatter",
         "x": [
          "Andaman & Nicobar",
          "Andhra Pradesh",
          "Arunachal Pradesh",
          "Assam",
          "Bihar",
          "Chandigarh",
          "Chhattisgarh",
          "Dadra & Nagar Haveli & Daman & Diu",
          "Delhi",
          "Goa",
          "Gujarat",
          "Haryana",
          "Himachal Pradesh",
          "Jammu & Kashmir",
          "Jharkhand",
          "Karnataka",
          "Kerala",
          "Ladakh",
          "Lakshadweep",
          "Madhya Pradesh",
          "Maharashtra",
          "Manipur",
          "Meghalaya",
          "Mizoram",
          "Nagaland",
          "Odisha",
          "Puducherry",
          "Punjab",
          "Rajasthan",
          "Sikkim",
          "Tamil Nadu",
          "Telangana",
          "Tripura",
          "Uttar Pradesh",
          "Uttarakhand",
          "West Bengal"
         ],
         "xaxis": "x",
         "y": [
          1211200,
          412517792,
          5431248,
          74978328,
          314093588,
          9555300,
          100353244,
          7260904,
          239434636,
          12578632,
          331949888,
          222916096,
          36207188,
          26352260,
          120019496,
          533435608,
          145766220,
          1559076,
          97712,
          335470156,
          827995060,
          6676276,
          4142344,
          1815360,
          4343988,
          209610140,
          7534772,
          123413944,
          400011500,
          3497916,
          362113168,
          384480756,
          9874552,
          663945752,
          62953864,
          378402564
         ],
         "yaxis": "y"
        },
        {
         "hovertemplate": "variable=AppOpens<br>States=%{x}<br>value=%{y}<extra></extra>",
         "legendgroup": "AppOpens",
         "line": {
          "color": "rgb(255,111,0)",
          "dash": "solid"
         },
         "marker": {
          "symbol": "circle"
         },
         "mode": "markers+lines",
         "name": "AppOpens",
         "orientation": "v",
         "showlegend": true,
         "type": "scatter",
         "x": [
          "Andaman & Nicobar",
          "Andhra Pradesh",
          "Arunachal Pradesh",
          "Assam",
          "Bihar",
          "Chandigarh",
          "Chhattisgarh",
          "Dadra & Nagar Haveli & Daman & Diu",
          "Delhi",
          "Goa",
          "Gujarat",
          "Haryana",
          "Himachal Pradesh",
          "Jammu & Kashmir",
          "Jharkhand",
          "Karnataka",
          "Kerala",
          "Ladakh",
          "Lakshadweep",
          "Madhya Pradesh",
          "Maharashtra",
          "Manipur",
          "Meghalaya",
          "Mizoram",
          "Nagaland",
          "Odisha",
          "Puducherry",
          "Punjab",
          "Rajasthan",
          "Sikkim",
          "Tamil Nadu",
          "Telangana",
          "Tripura",
          "Uttar Pradesh",
          "Uttarakhand",
          "West Bengal"
         ],
         "xaxis": "x",
         "y": [
          90098496,
          17708446700,
          691579064,
          4582631608,
          6135602164,
          54681268,
          6152029196,
          73604452,
          1822198864,
          234618080,
          8560626616,
          3775043356,
          1207922904,
          1384288144,
          5246703504,
          24966244808,
          1450031096,
          185193084,
          812136,
          23522594792,
          30724845832,
          204233036,
          338752188,
          173608508,
          285852716,
          8579903340,
          66183148,
          2022279028,
          33077019936,
          209267152,
          9017649100,
          15878070644,
          268240188,
          15259111520,
          2056716344,
          4498336144
         ],
         "yaxis": "y"
        }
       ],
       "layout": {
        "height": 800,
        "legend": {
         "title": {
          "text": "variable"
         },
         "tracegroupgap": 0
        },
        "template": {
         "data": {
          "bar": [
           {
            "error_x": {
             "color": "#2a3f5f"
            },
            "error_y": {
             "color": "#2a3f5f"
            },
            "marker": {
             "line": {
              "color": "#E5ECF6",
              "width": 0.5
             },
             "pattern": {
              "fillmode": "overlay",
              "size": 10,
              "solidity": 0.2
             }
            },
            "type": "bar"
           }
          ],
          "barpolar": [
           {
            "marker": {
             "line": {
              "color": "#E5ECF6",
              "width": 0.5
             },
             "pattern": {
              "fillmode": "overlay",
              "size": 10,
              "solidity": 0.2
             }
            },
            "type": "barpolar"
           }
          ],
          "carpet": [
           {
            "aaxis": {
             "endlinecolor": "#2a3f5f",
             "gridcolor": "white",
             "linecolor": "white",
             "minorgridcolor": "white",
             "startlinecolor": "#2a3f5f"
            },
            "baxis": {
             "endlinecolor": "#2a3f5f",
             "gridcolor": "white",
             "linecolor": "white",
             "minorgridcolor": "white",
             "startlinecolor": "#2a3f5f"
            },
            "type": "carpet"
           }
          ],
          "choropleth": [
           {
            "colorbar": {
             "outlinewidth": 0,
             "ticks": ""
            },
            "type": "choropleth"
           }
          ],
          "contour": [
           {
            "colorbar": {
             "outlinewidth": 0,
             "ticks": ""
            },
            "colorscale": [
             [
              0,
              "#0d0887"
             ],
             [
              0.1111111111111111,
              "#46039f"
             ],
             [
              0.2222222222222222,
              "#7201a8"
             ],
             [
              0.3333333333333333,
              "#9c179e"
             ],
             [
              0.4444444444444444,
              "#bd3786"
             ],
             [
              0.5555555555555556,
              "#d8576b"
             ],
             [
              0.6666666666666666,
              "#ed7953"
             ],
             [
              0.7777777777777778,
              "#fb9f3a"
             ],
             [
              0.8888888888888888,
              "#fdca26"
             ],
             [
              1,
              "#f0f921"
             ]
            ],
            "type": "contour"
           }
          ],
          "contourcarpet": [
           {
            "colorbar": {
             "outlinewidth": 0,
             "ticks": ""
            },
            "type": "contourcarpet"
           }
          ],
          "heatmap": [
           {
            "colorbar": {
             "outlinewidth": 0,
             "ticks": ""
            },
            "colorscale": [
             [
              0,
              "#0d0887"
             ],
             [
              0.1111111111111111,
              "#46039f"
             ],
             [
              0.2222222222222222,
              "#7201a8"
             ],
             [
              0.3333333333333333,
              "#9c179e"
             ],
             [
              0.4444444444444444,
              "#bd3786"
             ],
             [
              0.5555555555555556,
              "#d8576b"
             ],
             [
              0.6666666666666666,
              "#ed7953"
             ],
             [
              0.7777777777777778,
              "#fb9f3a"
             ],
             [
              0.8888888888888888,
              "#fdca26"
             ],
             [
              1,
              "#f0f921"
             ]
            ],
            "type": "heatmap"
           }
          ],
          "heatmapgl": [
           {
            "colorbar": {
             "outlinewidth": 0,
             "ticks": ""
            },
            "colorscale": [
             [
              0,
              "#0d0887"
             ],
             [
              0.1111111111111111,
              "#46039f"
             ],
             [
              0.2222222222222222,
              "#7201a8"
             ],
             [
              0.3333333333333333,
              "#9c179e"
             ],
             [
              0.4444444444444444,
              "#bd3786"
             ],
             [
              0.5555555555555556,
              "#d8576b"
             ],
             [
              0.6666666666666666,
              "#ed7953"
             ],
             [
              0.7777777777777778,
              "#fb9f3a"
             ],
             [
              0.8888888888888888,
              "#fdca26"
             ],
             [
              1,
              "#f0f921"
             ]
            ],
            "type": "heatmapgl"
           }
          ],
          "histogram": [
           {
            "marker": {
             "pattern": {
              "fillmode": "overlay",
              "size": 10,
              "solidity": 0.2
             }
            },
            "type": "histogram"
           }
          ],
          "histogram2d": [
           {
            "colorbar": {
             "outlinewidth": 0,
             "ticks": ""
            },
            "colorscale": [
             [
              0,
              "#0d0887"
             ],
             [
              0.1111111111111111,
              "#46039f"
             ],
             [
              0.2222222222222222,
              "#7201a8"
             ],
             [
              0.3333333333333333,
              "#9c179e"
             ],
             [
              0.4444444444444444,
              "#bd3786"
             ],
             [
              0.5555555555555556,
              "#d8576b"
             ],
             [
              0.6666666666666666,
              "#ed7953"
             ],
             [
              0.7777777777777778,
              "#fb9f3a"
             ],
             [
              0.8888888888888888,
              "#fdca26"
             ],
             [
              1,
              "#f0f921"
             ]
            ],
            "type": "histogram2d"
           }
          ],
          "histogram2dcontour": [
           {
            "colorbar": {
             "outlinewidth": 0,
             "ticks": ""
            },
            "colorscale": [
             [
              0,
              "#0d0887"
             ],
             [
              0.1111111111111111,
              "#46039f"
             ],
             [
              0.2222222222222222,
              "#7201a8"
             ],
             [
              0.3333333333333333,
              "#9c179e"
             ],
             [
              0.4444444444444444,
              "#bd3786"
             ],
             [
              0.5555555555555556,
              "#d8576b"
             ],
             [
              0.6666666666666666,
              "#ed7953"
             ],
             [
              0.7777777777777778,
              "#fb9f3a"
             ],
             [
              0.8888888888888888,
              "#fdca26"
             ],
             [
              1,
              "#f0f921"
             ]
            ],
            "type": "histogram2dcontour"
           }
          ],
          "mesh3d": [
           {
            "colorbar": {
             "outlinewidth": 0,
             "ticks": ""
            },
            "type": "mesh3d"
           }
          ],
          "parcoords": [
           {
            "line": {
             "colorbar": {
              "outlinewidth": 0,
              "ticks": ""
             }
            },
            "type": "parcoords"
           }
          ],
          "pie": [
           {
            "automargin": true,
            "type": "pie"
           }
          ],
          "scatter": [
           {
            "fillpattern": {
             "fillmode": "overlay",
             "size": 10,
             "solidity": 0.2
            },
            "type": "scatter"
           }
          ],
          "scatter3d": [
           {
            "line": {
             "colorbar": {
              "outlinewidth": 0,
              "ticks": ""
             }
            },
            "marker": {
             "colorbar": {
              "outlinewidth": 0,
              "ticks": ""
             }
            },
            "type": "scatter3d"
           }
          ],
          "scattercarpet": [
           {
            "marker": {
             "colorbar": {
              "outlinewidth": 0,
              "ticks": ""
             }
            },
            "type": "scattercarpet"
           }
          ],
          "scattergeo": [
           {
            "marker": {
             "colorbar": {
              "outlinewidth": 0,
              "ticks": ""
             }
            },
            "type": "scattergeo"
           }
          ],
          "scattergl": [
           {
            "marker": {
             "colorbar": {
              "outlinewidth": 0,
              "ticks": ""
             }
            },
            "type": "scattergl"
           }
          ],
          "scattermapbox": [
           {
            "marker": {
             "colorbar": {
              "outlinewidth": 0,
              "ticks": ""
             }
            },
            "type": "scattermapbox"
           }
          ],
          "scatterpolar": [
           {
            "marker": {
             "colorbar": {
              "outlinewidth": 0,
              "ticks": ""
             }
            },
            "type": "scatterpolar"
           }
          ],
          "scatterpolargl": [
           {
            "marker": {
             "colorbar": {
              "outlinewidth": 0,
              "ticks": ""
             }
            },
            "type": "scatterpolargl"
           }
          ],
          "scatterternary": [
           {
            "marker": {
             "colorbar": {
              "outlinewidth": 0,
              "ticks": ""
             }
            },
            "type": "scatterternary"
           }
          ],
          "surface": [
           {
            "colorbar": {
             "outlinewidth": 0,
             "ticks": ""
            },
            "colorscale": [
             [
              0,
              "#0d0887"
             ],
             [
              0.1111111111111111,
              "#46039f"
             ],
             [
              0.2222222222222222,
              "#7201a8"
             ],
             [
              0.3333333333333333,
              "#9c179e"
             ],
             [
              0.4444444444444444,
              "#bd3786"
             ],
             [
              0.5555555555555556,
              "#d8576b"
             ],
             [
              0.6666666666666666,
              "#ed7953"
             ],
             [
              0.7777777777777778,
              "#fb9f3a"
             ],
             [
              0.8888888888888888,
              "#fdca26"
             ],
             [
              1,
              "#f0f921"
             ]
            ],
            "type": "surface"
           }
          ],
          "table": [
           {
            "cells": {
             "fill": {
              "color": "#EBF0F8"
             },
             "line": {
              "color": "white"
             }
            },
            "header": {
             "fill": {
              "color": "#C8D4E3"
             },
             "line": {
              "color": "white"
             }
            },
            "type": "table"
           }
          ]
         },
         "layout": {
          "annotationdefaults": {
           "arrowcolor": "#2a3f5f",
           "arrowhead": 0,
           "arrowwidth": 1
          },
          "autotypenumbers": "strict",
          "coloraxis": {
           "colorbar": {
            "outlinewidth": 0,
            "ticks": ""
           }
          },
          "colorscale": {
           "diverging": [
            [
             0,
             "#8e0152"
            ],
            [
             0.1,
             "#c51b7d"
            ],
            [
             0.2,
             "#de77ae"
            ],
            [
             0.3,
             "#f1b6da"
            ],
            [
             0.4,
             "#fde0ef"
            ],
            [
             0.5,
             "#f7f7f7"
            ],
            [
             0.6,
             "#e6f5d0"
            ],
            [
             0.7,
             "#b8e186"
            ],
            [
             0.8,
             "#7fbc41"
            ],
            [
             0.9,
             "#4d9221"
            ],
            [
             1,
             "#276419"
            ]
           ],
           "sequential": [
            [
             0,
             "#0d0887"
            ],
            [
             0.1111111111111111,
             "#46039f"
            ],
            [
             0.2222222222222222,
             "#7201a8"
            ],
            [
             0.3333333333333333,
             "#9c179e"
            ],
            [
             0.4444444444444444,
             "#bd3786"
            ],
            [
             0.5555555555555556,
             "#d8576b"
            ],
            [
             0.6666666666666666,
             "#ed7953"
            ],
            [
             0.7777777777777778,
             "#fb9f3a"
            ],
            [
             0.8888888888888888,
             "#fdca26"
            ],
            [
             1,
             "#f0f921"
            ]
           ],
           "sequentialminus": [
            [
             0,
             "#0d0887"
            ],
            [
             0.1111111111111111,
             "#46039f"
            ],
            [
             0.2222222222222222,
             "#7201a8"
            ],
            [
             0.3333333333333333,
             "#9c179e"
            ],
            [
             0.4444444444444444,
             "#bd3786"
            ],
            [
             0.5555555555555556,
             "#d8576b"
            ],
            [
             0.6666666666666666,
             "#ed7953"
            ],
            [
             0.7777777777777778,
             "#fb9f3a"
            ],
            [
             0.8888888888888888,
             "#fdca26"
            ],
            [
             1,
             "#f0f921"
            ]
           ]
          },
          "colorway": [
           "#636efa",
           "#EF553B",
           "#00cc96",
           "#ab63fa",
           "#FFA15A",
           "#19d3f3",
           "#FF6692",
           "#B6E880",
           "#FF97FF",
           "#FECB52"
          ],
          "font": {
           "color": "#2a3f5f"
          },
          "geo": {
           "bgcolor": "white",
           "lakecolor": "white",
           "landcolor": "#E5ECF6",
           "showlakes": true,
           "showland": true,
           "subunitcolor": "white"
          },
          "hoverlabel": {
           "align": "left"
          },
          "hovermode": "closest",
          "mapbox": {
           "style": "light"
          },
          "paper_bgcolor": "white",
          "plot_bgcolor": "#E5ECF6",
          "polar": {
           "angularaxis": {
            "gridcolor": "white",
            "linecolor": "white",
            "ticks": ""
           },
           "bgcolor": "#E5ECF6",
           "radialaxis": {
            "gridcolor": "white",
            "linecolor": "white",
            "ticks": ""
           }
          },
          "scene": {
           "xaxis": {
            "backgroundcolor": "#E5ECF6",
            "gridcolor": "white",
            "gridwidth": 2,
            "linecolor": "white",
            "showbackground": true,
            "ticks": "",
            "zerolinecolor": "white"
           },
           "yaxis": {
            "backgroundcolor": "#E5ECF6",
            "gridcolor": "white",
            "gridwidth": 2,
            "linecolor": "white",
            "showbackground": true,
            "ticks": "",
            "zerolinecolor": "white"
           },
           "zaxis": {
            "backgroundcolor": "#E5ECF6",
            "gridcolor": "white",
            "gridwidth": 2,
            "linecolor": "white",
            "showbackground": true,
            "ticks": "",
            "zerolinecolor": "white"
           }
          },
          "shapedefaults": {
           "line": {
            "color": "#2a3f5f"
           }
          },
          "ternary": {
           "aaxis": {
            "gridcolor": "white",
            "linecolor": "white",
            "ticks": ""
           },
           "baxis": {
            "gridcolor": "white",
            "linecolor": "white",
            "ticks": ""
           },
           "bgcolor": "#E5ECF6",
           "caxis": {
            "gridcolor": "white",
            "linecolor": "white",
            "ticks": ""
           }
          },
          "title": {
           "x": 0.05
          },
          "xaxis": {
           "automargin": true,
           "gridcolor": "white",
           "linecolor": "white",
           "ticks": "",
           "title": {
            "standoff": 15
           },
           "zerolinecolor": "white",
           "zerolinewidth": 2
          },
          "yaxis": {
           "automargin": true,
           "gridcolor": "white",
           "linecolor": "white",
           "ticks": "",
           "title": {
            "standoff": 15
           },
           "zerolinecolor": "white",
           "zerolinewidth": 2
          }
         }
        },
        "title": {
         "text": "2018year 2 QUARTER, REGISTERED USERS, APPOPENS"
        },
        "width": 1000,
        "xaxis": {
         "anchor": "y",
         "domain": [
          0,
          1
         ],
         "title": {
          "text": "States"
         }
        },
        "yaxis": {
         "anchor": "x",
         "domain": [
          0,
          1
         ],
         "title": {
          "text": "value"
         }
        }
       }
      }
     },
     "metadata": {},
     "output_type": "display_data"
    }
   ],
   "source": [
    "Map_user_year_quarter = map_user_plot_2(Map_user,2)"
   ]
  },
  {
   "cell_type": "code",
   "execution_count": 81,
   "metadata": {},
   "outputs": [
    {
     "data": {
      "text/plain": [
       "2023"
      ]
     },
     "execution_count": 81,
     "metadata": {},
     "output_type": "execute_result"
    }
   ],
   "source": [
    "Map_user_year_quarter[\"Years\"].max()"
   ]
  },
  {
   "cell_type": "code",
   "execution_count": null,
   "metadata": {},
   "outputs": [],
   "source": [
    "Map_user_Year = map_user_plot_1(Map_user,2020)"
   ]
  },
  {
   "cell_type": "code",
   "execution_count": 65,
   "metadata": {},
   "outputs": [
    {
     "data": {
      "text/html": [
       "<div>\n",
       "<style scoped>\n",
       "    .dataframe tbody tr th:only-of-type {\n",
       "        vertical-align: middle;\n",
       "    }\n",
       "\n",
       "    .dataframe tbody tr th {\n",
       "        vertical-align: top;\n",
       "    }\n",
       "\n",
       "    .dataframe thead th {\n",
       "        text-align: right;\n",
       "    }\n",
       "</style>\n",
       "<table border=\"1\" class=\"dataframe\">\n",
       "  <thead>\n",
       "    <tr style=\"text-align: right;\">\n",
       "      <th></th>\n",
       "      <th>States</th>\n",
       "      <th>Years</th>\n",
       "      <th>Quarter</th>\n",
       "      <th>Districts</th>\n",
       "      <th>RegisteredUsers</th>\n",
       "      <th>AppOpens</th>\n",
       "    </tr>\n",
       "  </thead>\n",
       "  <tbody>\n",
       "    <tr>\n",
       "      <th>0</th>\n",
       "      <td>Andaman &amp; Nicobar</td>\n",
       "      <td>2020</td>\n",
       "      <td>1</td>\n",
       "      <td>north and middle andaman district</td>\n",
       "      <td>3315</td>\n",
       "      <td>30444</td>\n",
       "    </tr>\n",
       "    <tr>\n",
       "      <th>1</th>\n",
       "      <td>Andaman &amp; Nicobar</td>\n",
       "      <td>2020</td>\n",
       "      <td>1</td>\n",
       "      <td>south andaman district</td>\n",
       "      <td>24174</td>\n",
       "      <td>151529</td>\n",
       "    </tr>\n",
       "    <tr>\n",
       "      <th>2</th>\n",
       "      <td>Andaman &amp; Nicobar</td>\n",
       "      <td>2020</td>\n",
       "      <td>1</td>\n",
       "      <td>nicobars district</td>\n",
       "      <td>879</td>\n",
       "      <td>11613</td>\n",
       "    </tr>\n",
       "    <tr>\n",
       "      <th>3</th>\n",
       "      <td>Andaman &amp; Nicobar</td>\n",
       "      <td>2020</td>\n",
       "      <td>2</td>\n",
       "      <td>north and middle andaman district</td>\n",
       "      <td>4100</td>\n",
       "      <td>56992</td>\n",
       "    </tr>\n",
       "    <tr>\n",
       "      <th>4</th>\n",
       "      <td>Andaman &amp; Nicobar</td>\n",
       "      <td>2020</td>\n",
       "      <td>2</td>\n",
       "      <td>south andaman district</td>\n",
       "      <td>27626</td>\n",
       "      <td>231071</td>\n",
       "    </tr>\n",
       "    <tr>\n",
       "      <th>...</th>\n",
       "      <td>...</td>\n",
       "      <td>...</td>\n",
       "      <td>...</td>\n",
       "      <td>...</td>\n",
       "      <td>...</td>\n",
       "      <td>...</td>\n",
       "    </tr>\n",
       "    <tr>\n",
       "      <th>11707</th>\n",
       "      <td>West Bengal</td>\n",
       "      <td>2020</td>\n",
       "      <td>4</td>\n",
       "      <td>nadia district</td>\n",
       "      <td>832891</td>\n",
       "      <td>15442853</td>\n",
       "    </tr>\n",
       "    <tr>\n",
       "      <th>11708</th>\n",
       "      <td>West Bengal</td>\n",
       "      <td>2020</td>\n",
       "      <td>4</td>\n",
       "      <td>birbhum district</td>\n",
       "      <td>522435</td>\n",
       "      <td>8227523</td>\n",
       "    </tr>\n",
       "    <tr>\n",
       "      <th>11709</th>\n",
       "      <td>West Bengal</td>\n",
       "      <td>2020</td>\n",
       "      <td>4</td>\n",
       "      <td>purba medinipur district</td>\n",
       "      <td>824961</td>\n",
       "      <td>17526163</td>\n",
       "    </tr>\n",
       "    <tr>\n",
       "      <th>11710</th>\n",
       "      <td>West Bengal</td>\n",
       "      <td>2020</td>\n",
       "      <td>4</td>\n",
       "      <td>maldah district</td>\n",
       "      <td>568934</td>\n",
       "      <td>11028591</td>\n",
       "    </tr>\n",
       "    <tr>\n",
       "      <th>11711</th>\n",
       "      <td>West Bengal</td>\n",
       "      <td>2020</td>\n",
       "      <td>4</td>\n",
       "      <td>darjiling district</td>\n",
       "      <td>344186</td>\n",
       "      <td>5933529</td>\n",
       "    </tr>\n",
       "  </tbody>\n",
       "</table>\n",
       "<p>11712 rows × 6 columns</p>\n",
       "</div>"
      ],
      "text/plain": [
       "                  States  Years  Quarter                          Districts  \\\n",
       "0      Andaman & Nicobar   2020        1  north and middle andaman district   \n",
       "1      Andaman & Nicobar   2020        1             south andaman district   \n",
       "2      Andaman & Nicobar   2020        1                  nicobars district   \n",
       "3      Andaman & Nicobar   2020        2  north and middle andaman district   \n",
       "4      Andaman & Nicobar   2020        2             south andaman district   \n",
       "...                  ...    ...      ...                                ...   \n",
       "11707        West Bengal   2020        4                     nadia district   \n",
       "11708        West Bengal   2020        4                   birbhum district   \n",
       "11709        West Bengal   2020        4           purba medinipur district   \n",
       "11710        West Bengal   2020        4                    maldah district   \n",
       "11711        West Bengal   2020        4                 darjiling district   \n",
       "\n",
       "       RegisteredUsers  AppOpens  \n",
       "0                 3315     30444  \n",
       "1                24174    151529  \n",
       "2                  879     11613  \n",
       "3                 4100     56992  \n",
       "4                27626    231071  \n",
       "...                ...       ...  \n",
       "11707           832891  15442853  \n",
       "11708           522435   8227523  \n",
       "11709           824961  17526163  \n",
       "11710           568934  11028591  \n",
       "11711           344186   5933529  \n",
       "\n",
       "[11712 rows x 6 columns]"
      ]
     },
     "execution_count": 65,
     "metadata": {},
     "output_type": "execute_result"
    }
   ],
   "source": [
    "Map_user_Year"
   ]
  },
  {
   "cell_type": "code",
   "execution_count": null,
   "metadata": {},
   "outputs": [],
   "source": [
    "Map_user"
   ]
  }
 ],
 "metadata": {
  "kernelspec": {
   "display_name": "Python 3",
   "language": "python",
   "name": "python3"
  },
  "language_info": {
   "codemirror_mode": {
    "name": "ipython",
    "version": 3
   },
   "file_extension": ".py",
   "mimetype": "text/x-python",
   "name": "python",
   "nbconvert_exporter": "python",
   "pygments_lexer": "ipython3",
   "version": "3.11.5"
  }
 },
 "nbformat": 4,
 "nbformat_minor": 2
}
